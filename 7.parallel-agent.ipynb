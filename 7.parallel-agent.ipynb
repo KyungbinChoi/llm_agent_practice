{
 "cells": [
  {
   "cell_type": "code",
   "execution_count": 1,
   "metadata": {},
   "outputs": [
    {
     "data": {
      "text/plain": [
       "True"
      ]
     },
     "execution_count": 1,
     "metadata": {},
     "output_type": "execute_result"
    }
   ],
   "source": [
    "from dotenv import load_dotenv\n",
    "\n",
    "load_dotenv()"
   ]
  },
  {
   "cell_type": "code",
   "execution_count": 2,
   "metadata": {},
   "outputs": [],
   "source": [
    "from typing_extensions import TypedDict\n",
    "from langgraph.graph import StateGraph\n",
    "\n",
    "class AgentState(TypedDict):\n",
    "    query: str # 사용자 질문\n",
    "    answer: str # 세율 계산\n",
    "\n",
    "    tax_base_equation: str # 과세 표준 게산 수식\n",
    "    tax_deduction: str # 공제액\n",
    "    market_ratio: str # 공정시장가액비율\n",
    "    tax_base: str# 과세표준계산\n",
    "    \n",
    "graph_builder = StateGraph(AgentState)"
   ]
  },
  {
   "cell_type": "code",
   "execution_count": 3,
   "metadata": {},
   "outputs": [],
   "source": [
    "from langchain_text_splitters import RecursiveCharacterTextSplitter\n",
    "\n",
    "text_splitter = RecursiveCharacterTextSplitter(\n",
    "    chunk_size = 1500, # chunk 하나가 가질 수 있는 token 수\n",
    "    chunk_overlap = 100 # chunk 간 token 을 겹치게 하는 범위 (유사도 검색의 성능을 더 올림)\n",
    ")\n",
    "\n",
    "from langchain_community.document_loaders import TextLoader\n",
    "text_path = './documents/real_estate_tax.txt'\n",
    "loader = TextLoader(text_path)\n",
    "document_list =loader.load_and_split(text_splitter)"
   ]
  },
  {
   "cell_type": "code",
   "execution_count": 4,
   "metadata": {},
   "outputs": [],
   "source": [
    "from langchain_chroma import Chroma\n",
    "from langchain_openai import OpenAIEmbeddings\n",
    "\n",
    "# 최초 생성시\n",
    "embedding_function = OpenAIEmbeddings(model = 'text-embedding-3-large')\n",
    "vector_store = Chroma.from_documents(\n",
    "    documents=document_list,\n",
    "    embedding=embedding_function,\n",
    "    collection_name= 'real_estate_tax',\n",
    "    persist_directory='./real_estate_tax_collection'\n",
    ")\n",
    "\n",
    "retriever = vector_store.as_retriever(search_kwargs = {'k':3})\n",
    "\n",
    "\n",
    "# 생성된 retriever 참조시\n"
   ]
  },
  {
   "cell_type": "code",
   "execution_count": 5,
   "metadata": {},
   "outputs": [],
   "source": [
    "query = \"5억 짜리 집 1채, 10억짜리 집 1채, 20억짜리 집 1채를 가지고 있을 때 세금을 얼마나 내야하나요?\""
   ]
  },
  {
   "cell_type": "code",
   "execution_count": 6,
   "metadata": {},
   "outputs": [],
   "source": [
    "from langchain_openai import ChatOpenAI\n",
    "from langchain import hub\n",
    "from langchain_core.output_parsers import StrOutputParser\n",
    "from langchain_core.runnables import RunnablePassthrough\n",
    "from langchain_core.prompts import ChatPromptTemplate\n",
    "\n",
    "llm = ChatOpenAI(model='gpt-4o')\n",
    "small_llm = ChatOpenAI(model='gpt-4o-mini')\n",
    "\n",
    "rag_prompt = hub.pull('rlm/rag-prompt')"
   ]
  },
  {
   "cell_type": "code",
   "execution_count": 7,
   "metadata": {},
   "outputs": [],
   "source": [
    "tax_base_retrieval_chain = (\n",
    "    {'context': retriever, 'question': RunnablePassthrough()} \n",
    "    | rag_prompt \n",
    "    | llm \n",
    "    | StrOutputParser()\n",
    ")\n",
    "\n",
    "tax_base_equation_prompt = ChatPromptTemplate(\n",
    "    [('system', '사용자의 질문에서 과세표준을 게산하는 방법을 수식으로 나타내주세요. 부연설명 없이 수식만 답변하세요.'),\n",
    "    ('human', '{tax_base_equation_information}')\n",
    "    ]\n",
    " )\n",
    "\n",
    "tax_base_equation_chain = (\n",
    "    {'tax_base_equation_information': RunnablePassthrough()}\n",
    "    | tax_base_equation_prompt\n",
    "    | llm\n",
    "    | StrOutputParser()\n",
    ")\n",
    "\n",
    "tax_base_chain = {'tax_base_equation_information' : tax_base_retrieval_chain} | tax_base_equation_chain\n",
    "\n",
    "def get_tax_base_equation(state:AgentState) -> str:\n",
    "    tax_base_equation_question = \"주택에 대한 종합부동산세 계산시 과세표준을 계산하는 방법을 수식으로 표현해서 알려주세요.\"\n",
    "    tax_base_equation = tax_base_chain.invoke(tax_base_equation_question)\n",
    "    return {'tax_base_equation': tax_base_equation}"
   ]
  },
  {
   "cell_type": "code",
   "execution_count": 8,
   "metadata": {},
   "outputs": [
    {
     "data": {
      "text/plain": [
       "{'tax_base_equation': '과세표준 = (총 공시가격 - 공제액) × 공정시장가액비율'}"
      ]
     },
     "execution_count": 8,
     "metadata": {},
     "output_type": "execute_result"
    }
   ],
   "source": [
    "get_tax_base_equation({})\n",
    "# {'tax_base_equation': '과세표준 = (주택 공시가격 합계 - 공제금액) × 공정시장가액비율'}"
   ]
  },
  {
   "cell_type": "code",
   "execution_count": 9,
   "metadata": {},
   "outputs": [],
   "source": [
    "tax_deduction_chain = (\n",
    "    {'context': retriever, 'question': RunnablePassthrough()} \n",
    "    | rag_prompt \n",
    "    | llm \n",
    "    | StrOutputParser()\n",
    ")\n",
    "\n",
    "def get_tax_deduction(state:AgentState) -> str:\n",
    "    tax_deduciton_question = \"주택에 대한 종합부동산세 계산시 공제금액을 알려주세요\"\n",
    "    tax_deduction = tax_deduction_chain.invoke(tax_deduciton_question)\n",
    "    return {'tax_deduction': tax_deduction}"
   ]
  },
  {
   "cell_type": "code",
   "execution_count": null,
   "metadata": {},
   "outputs": [
    {
     "data": {
      "text/plain": [
       "{'tax_deduction': '주택에 대한 종합부동산세 계산 시 공제금액은 1세대 1주택자의 경우 12억 원이며, 그 외의 경우 9억 원입니다.'}"
      ]
     },
     "execution_count": 10,
     "metadata": {},
     "output_type": "execute_result"
    }
   ],
   "source": [
    "get_tax_deduction({})\n",
    "# 'tax_deduction': '주택에 대한 종합부동산세 계산 시 공제금액은 1세대 1주택자의 경우 12억 원입니다. 법인 또는 법인으로 보는 단체는 6억 원, 그 외의 경우는 9억 원이 공제됩니다.'"
   ]
  },
  {
   "cell_type": "code",
   "execution_count": 11,
   "metadata": {},
   "outputs": [],
   "source": [
    "from langchain_community.tools import TavilySearchResults\n",
    "from datetime import date\n",
    "\n",
    "tax_market_ratio_prompt = ChatPromptTemplate.from_messages([\n",
    "    ('system','아래 정보를 기반으로 공정시장 가액비율을 계산해주세요. \\n\\n Context:\\n{context}'),\n",
    "    ('human','{query}')\n",
    "])\n",
    "\n",
    "tavily_search_tool = TavilySearchResults(\n",
    "    max_results=5,\n",
    "    search_depth=\"advanced\",\n",
    "    include_answer=True,\n",
    "    include_raw_content=True,\n",
    "    include_images=True,\n",
    ")\n",
    "\n",
    "def get_market_ratio(state:AgentState):\n",
    "    \n",
    "    query = f'오늘 날짜:({date.today()})에 해당하는 주택 공시가격 공정시장가액비율은 몇%인가요?'\n",
    "    context = tavily_search_tool.invoke(query)\n",
    "    \n",
    "    tax_market_ratio_chain = (\n",
    "        tax_market_ratio_prompt\n",
    "        | llm\n",
    "        | StrOutputParser()\n",
    "    )\n",
    "    \n",
    "    market_ratio = tax_market_ratio_chain.invoke({'context': context, 'query': query})\n",
    "    \n",
    "    return {'market_ratio': market_ratio}"
   ]
  },
  {
   "cell_type": "code",
   "execution_count": 12,
   "metadata": {},
   "outputs": [
    {
     "data": {
      "text/plain": [
       "{'market_ratio': '2025년 주택 공시가격에 대한 공정시장가액비율은 1주택자에 한해 공시가격에 따라 다음과 같이 적용됩니다:\\n- 공시가격 3억 원 이하: 43%\\n- 공시가격 3억 원 초과~6억 원 이하: 44%\\n- 공시가격 6억 원 초과: 45%\\n\\n다주택자 및 법인의 경우에는 공정시장가액비율이 60%로 유지됩니다.'}"
      ]
     },
     "execution_count": 12,
     "metadata": {},
     "output_type": "execute_result"
    }
   ],
   "source": [
    "get_market_ratio({})\n",
    "# {'market_ratio': '오늘 날짜인 2025년 7월 14일에 해당하는 주택 공시가격 공정시장가액비율은 다음과 같습니다:\\n\\n- 공시가격 3억 원 이하: 43%\\n- 공시가격 3억 원 초과 ~ 6억 원 이하: 44%\\n- 공시가격 6억 원 초과: 45%\\n\\n이 비율은 1주택자에게 적용되는 특례입니다.'}"
   ]
  },
  {
   "cell_type": "code",
   "execution_count": 18,
   "metadata": {},
   "outputs": [],
   "source": [
    "tax_base_calculation_prompt = ChatPromptTemplate.from_messages(\n",
    "    [\n",
    "        ('system',\"\"\"\n",
    "주어진 내용을 기반으로 과세표준을 계산해주세요\n",
    "\n",
    "과세표준 계산 공식: {tax_base_equation}\n",
    "공제금액: {tax_deduction}\n",
    "공정시장가액비율: {market_ratio}\"\"\"),\n",
    "        ('human', '사용자 주택 공시가격 정보: {query}')\n",
    "    ]\n",
    ")\n",
    "\n",
    "\n",
    "def calculate_tax_base(state:AgentState):\n",
    "    tax_base_equation = state['tax_base_equation']\n",
    "    tax_deduction = state['tax_deduction']\n",
    "    market_ratio = state['market_ratio']\n",
    "\n",
    "    query = state['query']\n",
    "    tax_base_calculation_chain = (\n",
    "        tax_base_calculation_prompt \n",
    "        | llm\n",
    "        | StrOutputParser()\n",
    "    )\n",
    "\n",
    "    tax_base = tax_base_calculation_chain.invoke({\n",
    "        'tax_base_equation': tax_base_equation,\n",
    "        'tax_deduction' : tax_deduction,\n",
    "        'market_ratio': market_ratio,\n",
    "        'query': query\n",
    "    })\n",
    "    print(f'tax_base=={tax_base}')\n",
    "    return {'tax_base': tax_base}"
   ]
  },
  {
   "cell_type": "code",
   "execution_count": 19,
   "metadata": {},
   "outputs": [],
   "source": [
    "initial_state = ({\n",
    "    'query':query,\n",
    "    'tax_base_equation': '과세표준 = (주택 공시가격 합계 - 공제금액) × 공정시장가액비율',\n",
    "    'tax_deduction': '주택에 대한 종합부동산세 계산 시 공제금액은 1세대 1주택자의 경우 12억 원입니다. 법인 또는 법인으로 보는 단체는 6억 원, 그 외의 경우는 9억 원이 공제됩니다.',\n",
    "    'market_ratio': '오늘 날짜인 2025년 7월 14일에 해당하는 주택 공시가격 공정시장가액비율은 다음과 같습니다:\\n\\n- 공시가격 3억 원 이하: 43%\\n- 공시가격 3억 원 초과 ~ 6억 원 이하: 44%\\n- 공시가격 6억 원 초과: 45%\\n\\n이 비율은 1주택자에게 적용되는 특례입니다.',\n",
    "    'tax_base' :\"\"\"\"\"\"\n",
    "})"
   ]
  },
  {
   "cell_type": "code",
   "execution_count": null,
   "metadata": {},
   "outputs": [
    {
     "name": "stdout",
     "output_type": "stream",
     "text": [
      "tax_base==주어진 정보를 바탕으로 과세표준을 계산해 보겠습니다.\n",
      "\n",
      "1. 주택 공시가격 합계:\n",
      "   - 5억 원짜리 집 1채\n",
      "   - 10억 원짜리 집 1채\n",
      "   - 20억 원짜리 집 1채\n",
      "\n",
      "   총 공시가격 = 5억 + 10억 + 20억 = 35억 원\n",
      "\n",
      "2. 공제금액:\n",
      "   - 사용자가 1세대 1주택자가 아니라면, 기본 공제금액은 9억 원입니다.\n",
      "\n",
      "3. 공정시장가액비율:\n",
      "   - 5억 원짜리 집: 44%\n",
      "   - 10억 원짜리 집: 45%\n",
      "   - 20억 원짜리 집: 45%\n",
      "\n",
      "   공시가격이 6억 원을 초과하는 경우 45%를 적용합니다.\n",
      "\n",
      "4. 과세표준 계산:\n",
      "   - 과세표준 = (주택 공시가격 합계 - 공제금액) × 공정시장가액비율\n",
      "   - 과세표준 = (35억 원 - 9억 원) × 45%\n",
      "   - 과세표준 = 26억 원 × 0.45\n",
      "   - 과세표준 = 11.7억 원\n",
      "\n",
      "따라서, 사용자는 과세표준에 따라 종합부동산세를 계산해야 합니다. 실제 세금 금액은 과세표준에 해당하는 세율을 적용하여 산출됩니다. 세율은 해당 과세표준 구간에 따라 다르게 적용되므로, 이에 대한 추가 정보가 필요합니다.\n",
      "{'tax_base': '주어진 정보를 바탕으로 과세표준을 계산해 보겠습니다.\\n\\n1. 주택 공시가격 합계:\\n   - 5억 원짜리 집 1채\\n   - 10억 원짜리 집 1채\\n   - 20억 원짜리 집 1채\\n\\n   총 공시가격 = 5억 + 10억 + 20억 = 35억 원\\n\\n2. 공제금액:\\n   - 사용자가 1세대 1주택자가 아니라면, 기본 공제금액은 9억 원입니다.\\n\\n3. 공정시장가액비율:\\n   - 5억 원짜리 집: 44%\\n   - 10억 원짜리 집: 45%\\n   - 20억 원짜리 집: 45%\\n\\n   공시가격이 6억 원을 초과하는 경우 45%를 적용합니다.\\n\\n4. 과세표준 계산:\\n   - 과세표준 = (주택 공시가격 합계 - 공제금액) × 공정시장가액비율\\n   - 과세표준 = (35억 원 - 9억 원) × 45%\\n   - 과세표준 = 26억 원 × 0.45\\n   - 과세표준 = 11.7억 원\\n\\n따라서, 사용자는 과세표준에 따라 종합부동산세를 계산해야 합니다. 실제 세금 금액은 과세표준에 해당하는 세율을 적용하여 산출됩니다. 세율은 해당 과세표준 구간에 따라 다르게 적용되므로, 이에 대한 추가 정보가 필요합니다.'}\n"
     ]
    }
   ],
   "source": [
    "calculate_tax_base(initial_state)"
   ]
  },
  {
   "cell_type": "code",
   "execution_count": 22,
   "metadata": {},
   "outputs": [],
   "source": [
    "tax_rate_calculation_prompt = ChatPromptTemplate.from_messages([\n",
    "    ('system', '당신은 종합부동산세 계산 전문가입니다. 아래 문서를 참고해서 사용자의 질문에 대한 종합부동산세를 계산해주세요\\n\\n종합부동산세 세율:{context}'),\n",
    "    ('human', '과세표준과 사용자가 소지한 주택의 수가 아래와 같을 때 종합부동산세를 계산해주세요. \\n과세표준: {tax_base}\\n주택 수:{query}')\n",
    "\n",
    "])\n",
    "\n",
    "def calculate_tax_rate(state:AgentState):\n",
    "    query = state['query']\n",
    "    tax_base = state['tax_base']\n",
    "    context = retriever.invoke(query)\n",
    "    tax_rate_chain = (\n",
    "        tax_rate_calculation_prompt\n",
    "        | llm\n",
    "        | StrOutputParser()\n",
    "    )\n",
    "    tax_rate = tax_rate_chain.invoke({'context':context, 'tax_base':tax_base, 'query':query})\n",
    "    print(f'tax_rate=={tax_rate}')\n",
    "    return {'answer':tax_rate}"
   ]
  },
  {
   "cell_type": "code",
   "execution_count": 23,
   "metadata": {},
   "outputs": [],
   "source": [
    "initial_state = {\n",
    "    'tax_base':\"\"\"1. 주택 공시가격 합계:\n",
    "   - 5억 원짜리 집 1채\n",
    "   - 10억 원짜리 집 1채\n",
    "   - 20억 원짜리 집 1채\n",
    "\n",
    "   총 공시가격 = 5억 + 10억 + 20억 = 35억 원\n",
    "\n",
    "2. 공제금액:\n",
    "   - 사용자가 1세대 1주택자가 아니라면, 기본 공제금액은 9억 원입니다.\n",
    "\n",
    "3. 공정시장가액비율:\n",
    "   - 5억 원짜리 집: 44%\n",
    "   - 10억 원짜리 집: 45%\n",
    "   - 20억 원짜리 집: 45%\n",
    "\n",
    "   공시가격이 6억 원을 초과하는 경우 45%를 적용합니다.\n",
    "\n",
    "4. 과세표준 계산:\n",
    "   - 과세표준 = (주택 공시가격 합계 - 공제금액) × 공정시장가액비율\n",
    "   - 과세표준 = (35억 원 - 9억 원) × 45%\n",
    "   - 과세표준 = 26억 원 × 0.45\n",
    "   - 과세표준 = 11.7억 원\n",
    "\n",
    "따라서, 사용자는 과세표준에 따라 종합부동산세를 계산해야 합니다. 실제 세금 금액은 과세표준에 해당하는 세율을 적용하여 산출됩니다. 세율은 해당 과세표준 구간에 따라 다르게 적용되므로, 이에 대한 추가 정보가 필요합니다.\"\"\",\n",
    "'query':query\n",
    "}"
   ]
  },
  {
   "cell_type": "code",
   "execution_count": 24,
   "metadata": {},
   "outputs": [
    {
     "name": "stdout",
     "output_type": "stream",
     "text": [
      "tax_rate==주택 공시가격 합계가 35억 원이고, 공제금액이 9억 원이며, 과세표준이 11.7억 원인 상황에서, 사용자는 3채의 주택을 소유하고 있습니다. 따라서 \"납세의무자가 3주택 이상을 소유한 경우\"의 세율을 적용해야 합니다.\n",
      "\n",
      "과세표준이 11.7억 원일 때, 세율 표에서 확인해보면 이는 \"6억 원 초과 12억 원 이하\" 구간에 해당합니다. 해당 구간의 세율은 다음과 같습니다:\n",
      "\n",
      "- 기본세액: 360만 원\n",
      "- 6억 원을 초과하는 금액에 적용할 세율: 1천분의 10\n",
      "\n",
      "따라서, 종합부동산세는 다음과 같이 계산됩니다:\n",
      "\n",
      "1. 6억 원 초과분: 11.7억 원 - 6억 원 = 5.7억 원\n",
      "2. 초과분에 대한 세금: 5.7억 원 × 0.001 = 570만 원\n",
      "3. 총 세금: 360만 원 + 570만 원 = 930만 원\n",
      "\n",
      "따라서, 사용자가 내야 할 종합부동산세는 930만 원입니다.\n"
     ]
    },
    {
     "data": {
      "text/plain": [
       "{'answer': '주택 공시가격 합계가 35억 원이고, 공제금액이 9억 원이며, 과세표준이 11.7억 원인 상황에서, 사용자는 3채의 주택을 소유하고 있습니다. 따라서 \"납세의무자가 3주택 이상을 소유한 경우\"의 세율을 적용해야 합니다.\\n\\n과세표준이 11.7억 원일 때, 세율 표에서 확인해보면 이는 \"6억 원 초과 12억 원 이하\" 구간에 해당합니다. 해당 구간의 세율은 다음과 같습니다:\\n\\n- 기본세액: 360만 원\\n- 6억 원을 초과하는 금액에 적용할 세율: 1천분의 10\\n\\n따라서, 종합부동산세는 다음과 같이 계산됩니다:\\n\\n1. 6억 원 초과분: 11.7억 원 - 6억 원 = 5.7억 원\\n2. 초과분에 대한 세금: 5.7억 원 × 0.001 = 570만 원\\n3. 총 세금: 360만 원 + 570만 원 = 930만 원\\n\\n따라서, 사용자가 내야 할 종합부동산세는 930만 원입니다.'}"
      ]
     },
     "execution_count": 24,
     "metadata": {},
     "output_type": "execute_result"
    }
   ],
   "source": [
    "calculate_tax_rate(initial_state)"
   ]
  },
  {
   "cell_type": "code",
   "execution_count": 25,
   "metadata": {},
   "outputs": [
    {
     "ename": "NameError",
     "evalue": "name 'get_tax_deduction' is not defined",
     "output_type": "error",
     "traceback": [
      "\u001b[0;31m---------------------------------------------------------------------------\u001b[0m",
      "\u001b[0;31mNameError\u001b[0m                                 Traceback (most recent call last)",
      "Cell \u001b[0;32mIn[25], line 2\u001b[0m\n\u001b[1;32m      1\u001b[0m graph_builder\u001b[38;5;241m.\u001b[39madd_node(\u001b[38;5;124m'\u001b[39m\u001b[38;5;124mget_tax_base_equation\u001b[39m\u001b[38;5;124m'\u001b[39m, get_tax_base_equation)\n\u001b[0;32m----> 2\u001b[0m graph_builder\u001b[38;5;241m.\u001b[39madd_node(\u001b[38;5;124m'\u001b[39m\u001b[38;5;124mget_tax_deduction\u001b[39m\u001b[38;5;124m'\u001b[39m, \u001b[43mget_tax_deduction\u001b[49m)\n\u001b[1;32m      3\u001b[0m graph_builder\u001b[38;5;241m.\u001b[39madd_node(\u001b[38;5;124m'\u001b[39m\u001b[38;5;124mget_market_ratio\u001b[39m\u001b[38;5;124m'\u001b[39m, get_market_ratio)\n\u001b[1;32m      4\u001b[0m graph_builder\u001b[38;5;241m.\u001b[39madd_node(\u001b[38;5;124m'\u001b[39m\u001b[38;5;124mcalculate_tax_base\u001b[39m\u001b[38;5;124m'\u001b[39m, calculate_tax_base)\n",
      "\u001b[0;31mNameError\u001b[0m: name 'get_tax_deduction' is not defined"
     ]
    }
   ],
   "source": [
    "graph_builder.add_node('get_tax_base_equation', get_tax_base_equation)\n",
    "graph_builder.add_node('get_tax_deduction', get_tax_deduction)\n",
    "graph_builder.add_node('get_market_ratio', get_market_ratio)\n",
    "graph_builder.add_node('calculate_tax_base', calculate_tax_base)\n",
    "graph_builder.add_node('calculate_tax_rate', calculate_tax_rate)"
   ]
  },
  {
   "cell_type": "code",
   "execution_count": null,
   "metadata": {},
   "outputs": [],
   "source": []
  }
 ],
 "metadata": {
  "kernelspec": {
   "display_name": "inflearn-langgraph-lecture",
   "language": "python",
   "name": "python3"
  },
  "language_info": {
   "codemirror_mode": {
    "name": "ipython",
    "version": 3
   },
   "file_extension": ".py",
   "mimetype": "text/x-python",
   "name": "python",
   "nbconvert_exporter": "python",
   "pygments_lexer": "ipython3",
   "version": "3.13.5"
  }
 },
 "nbformat": 4,
 "nbformat_minor": 2
}
