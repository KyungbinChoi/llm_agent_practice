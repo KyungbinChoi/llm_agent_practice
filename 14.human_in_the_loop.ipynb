{
 "cells": [
  {
   "cell_type": "markdown",
   "metadata": {},
   "source": [
    "# Human in the loop"
   ]
  },
  {
   "cell_type": "code",
   "execution_count": 2,
   "metadata": {},
   "outputs": [
    {
     "data": {
      "text/plain": [
       "True"
      ]
     },
     "execution_count": 2,
     "metadata": {},
     "output_type": "execute_result"
    }
   ],
   "source": [
    "from dotenv import load_dotenv\n",
    "\n",
    "load_dotenv()"
   ]
  },
  {
   "cell_type": "code",
   "execution_count": 3,
   "metadata": {},
   "outputs": [],
   "source": [
    "from langchain_openai import ChatOpenAI\n",
    "llm = ChatOpenAI(model = 'gpt-4o')\n",
    "small_llm = ChatOpenAI(model = 'gpt-4o-mini')"
   ]
  },
  {
   "cell_type": "code",
   "execution_count": 4,
   "metadata": {},
   "outputs": [],
   "source": [
    "from langchain_core.tools import tool\n",
    "\n",
    "@tool\n",
    "def add(a: int, b: int) -> int:\n",
    "    \"\"\"숫자 a와 b를 더합니다.\"\"\"\n",
    "    return a + b\n",
    "\n",
    "@tool\n",
    "def multiply(a: int, b: int) -> int:\n",
    "    \"\"\"숫자 a와 b를 곱합니다.\"\"\"\n",
    "    return a * b"
   ]
  },
  {
   "cell_type": "code",
   "execution_count": 5,
   "metadata": {},
   "outputs": [],
   "source": [
    "from langchain_community.tools import DuckDuckGoSearchRun\n",
    "\n",
    "search_tool = DuckDuckGoSearchRun()"
   ]
  },
  {
   "cell_type": "code",
   "execution_count": 6,
   "metadata": {},
   "outputs": [],
   "source": [
    "from langchain_google_community import GmailToolkit\n",
    "\n",
    "from langchain_google_community.gmail.utils import (\n",
    "    build_resource_service,\n",
    "    get_gmail_credentials,\n",
    ")\n",
    "\n",
    "# Can review scopes here https://developers.google.com/gmail/api/auth/scopes\n",
    "# For instance, readonly scope is 'https://www.googleapis.com/auth/gmail.readonly'\n",
    "credentials = get_gmail_credentials(\n",
    "    token_file=\"./google/gmail_token.json\",\n",
    "    scopes=[\"https://mail.google.com/\"],\n",
    "    client_secrets_file=\"./google/gmail_credentials.json\",\n",
    ")\n",
    "api_resource = build_resource_service(credentials=credentials)\n",
    "gmail_toolkit = GmailToolkit(api_resource=api_resource)\n",
    "gmail_tool_list = gmail_toolkit.get_tools()\n"
   ]
  },
  {
   "cell_type": "code",
   "execution_count": 7,
   "metadata": {},
   "outputs": [
    {
     "data": {
      "text/plain": [
       "[GmailCreateDraft(api_resource=<googleapiclient.discovery.Resource object at 0x130d696a0>),\n",
       " GmailSendMessage(api_resource=<googleapiclient.discovery.Resource object at 0x130d696a0>),\n",
       " GmailSearch(api_resource=<googleapiclient.discovery.Resource object at 0x130d696a0>),\n",
       " GmailGetMessage(api_resource=<googleapiclient.discovery.Resource object at 0x130d696a0>),\n",
       " GmailGetThread(api_resource=<googleapiclient.discovery.Resource object at 0x130d696a0>)]"
      ]
     },
     "execution_count": 7,
     "metadata": {},
     "output_type": "execute_result"
    }
   ],
   "source": [
    "gmail_tool_list"
   ]
  },
  {
   "cell_type": "code",
   "execution_count": 8,
   "metadata": {},
   "outputs": [],
   "source": [
    "from langchain.agents import load_tools\n",
    "\n",
    "loaded_tool_list = load_tools(\n",
    "    [\"arxiv\"],\n",
    ")"
   ]
  },
  {
   "cell_type": "code",
   "execution_count": 9,
   "metadata": {},
   "outputs": [],
   "source": [
    "import os\n",
    "\n",
    "from langchain_chroma import Chroma\n",
    "from langchain_openai import OpenAIEmbeddings\n",
    "from langchain_core.tools.retriever import create_retriever_tool\n",
    "\n",
    "from langchain_chroma import Chroma\n",
    "from langchain_openai import OpenAIEmbeddings\n",
    "\n",
    "# 최초 생성시\n",
    "embedding_function = OpenAIEmbeddings(model = 'text-embedding-3-large')\n",
    "vector_store = Chroma(\n",
    "    embedding_function= embedding_function,\n",
    "    collection_name= 'real_estate_tax',\n",
    "    persist_directory='./real_estate_tax_collection'\n",
    ")\n",
    "\n",
    "retriever = vector_store.as_retriever(search_kwargs = {'k':3})\n",
    "\n",
    "\n",
    "# 생성된 retriever 참조시\n",
    "\n",
    "retriever_tool = create_retriever_tool(\n",
    "    retriever=retriever,\n",
    "    name='real_estate_tax_retriever',\n",
    "    description='Contains information about real estate tax up to December 2024',\n",
    ")"
   ]
  },
  {
   "cell_type": "code",
   "execution_count": 10,
   "metadata": {},
   "outputs": [],
   "source": [
    "from langgraph.prebuilt import ToolNode\n",
    "\n",
    "tool_list = [add, multiply, search_tool, retriever_tool] + gmail_tool_list + loaded_tool_list\n",
    "llm_with_tools = small_llm.bind_tools(tool_list)\n",
    "tool_node = ToolNode(tool_list)"
   ]
  },
  {
   "cell_type": "code",
   "execution_count": 11,
   "metadata": {},
   "outputs": [],
   "source": [
    "from langgraph.graph import MessagesState, StateGraph\n",
    "\n",
    "class AgentState(MessagesState):\n",
    "    summary: str\n",
    "\n",
    "graph_builder = StateGraph(AgentState)"
   ]
  },
  {
   "cell_type": "code",
   "execution_count": 12,
   "metadata": {},
   "outputs": [],
   "source": [
    "from langchain_core.messages import SystemMessage\n",
    "\n",
    "def agent(state: AgentState) -> AgentState:\n",
    "    \"\"\"\n",
    "    주어진 `state`에서 메시지를 가져와\n",
    "    LLM과 도구를 사용하여 응답 메시지를 생성합니다.\n",
    "\n",
    "    Args:\n",
    "        state (AgentState): 메시지 기록과 요약을 포함하는 state.\n",
    "\n",
    "    Returns:\n",
    "        MessagesState: 응답 메시지를 포함하는 새로운 state.\n",
    "    \"\"\"\n",
    "    # 메시지와 요약을 state에서 가져옵니다.\n",
    "    messages = state['messages']\n",
    "    summary = state['summary']\n",
    "    \n",
    "    # 요약이 비어있지 않으면, 요약을 메시지 앞에 추가합니다.\n",
    "    if summary != '':\n",
    "        messages = [SystemMessage(content=f'Here is the summary of the earlier conversation: {summary}')] + messages\n",
    "    \n",
    "    # LLM과 도구를 사용하여 메시지에 대한 응답을 생성합니다.\n",
    "    response = llm_with_tools.invoke(messages)\n",
    "    \n",
    "    # 응답 메시지를 포함하는 새로운 state를 반환합니다.\n",
    "    return {'messages': [response]}"
   ]
  },
  {
   "cell_type": "code",
   "execution_count": 13,
   "metadata": {},
   "outputs": [],
   "source": [
    "from typing import Literal\n",
    "from langgraph.types import interrupt, Command\n",
    "\n",
    "def human_review(state: AgentState) -> Command[Literal['tools']]:\n",
    "    messages = state['messages']\n",
    "    last_message = messages[-1]\n",
    "    tool_call = last_message.tool_calls[-1]\n",
    "    human_review = interrupt({\n",
    "        'question': '이렇게 진행하면 될까요?',\n",
    "        'tool_call': tool_call\n",
    "    })\n",
    "    review_action = human_review['action']\n",
    "    review_data = human_review.get('data',None)    \n",
    "\n",
    "    if review_action =='continue':\n",
    "        return Command(goto='tools')\n",
    "    \n",
    "    if review_action == 'update_args':\n",
    "        # 도구를 더 효율적으로 사용하기 위해 AIMessage의 `tool_calls` 필드를 업데이트\n",
    "        updated_ai_message = {\n",
    "            'id': last_message.id,\n",
    "            'role': 'ai',\n",
    "            'content': last_message.content,\n",
    "            'tool_calls': [{\n",
    "                'id': tool_call['id'],\n",
    "                'name': tool_call['name'],\n",
    "                'args': review_data\n",
    "            }],\n",
    "        }\n",
    "        return Command(goto='tools', update={'messages': [updated_ai_message]})\n",
    "    \n",
    "    if review_action == 'update_tool':\n",
    "        # 다른 도구를 사용하기 위해 `ToolMessage`를 업데이트\n",
    "        updated_tool_message = {\n",
    "            'tool_call_id': tool_call['id'],\n",
    "            'name': tool_call['name'],\n",
    "            'role': 'tool',\n",
    "            'content': review_data\n",
    "        }\n",
    "        return Command(goto='agent', update={'messages': [updated_tool_message]})"
   ]
  },
  {
   "cell_type": "code",
   "execution_count": 14,
   "metadata": {},
   "outputs": [],
   "source": [
    "def summarize_messages(state: AgentState) -> AgentState:\n",
    "    \"\"\"\n",
    "    주어진 state의 메시지를 요약합니다.\n",
    "\n",
    "    Args:\n",
    "        state (AgentState): 메시지와 요약을 포함하는 state.\n",
    "\n",
    "    Returns:\n",
    "        AgentState: 요약된 메시지를 포함하는 딕셔너리.\n",
    "    \"\"\"\n",
    "    # state에서 메시지와 요약을 가져옵니다.\n",
    "    messages = state['messages']\n",
    "    summary = state['summary']\n",
    "    \n",
    "    # 요약 프롬프트를 생성합니다.\n",
    "    summary_prompt = f'summarize this chat history below: \\n\\nchat_history:{messages}'\n",
    "    \n",
    "    # 기존 요약이 있으면, 요약을 포함한 프롬프트를 생성합니다.\n",
    "    if summary != '':\n",
    "        summary_prompt = f'''summarize this chat history below while looking at the summary of earlier conversations\n",
    "chat_history:{messages}\n",
    "summary:{summary}'''\n",
    "    \n",
    "    # LLM을 사용하여 요약을 생성합니다.\n",
    "    summary = small_llm.invoke(summary_prompt)\n",
    "    \n",
    "    # 요약된 메시지를 반환합니다.\n",
    "    return {'summary': summary.content}"
   ]
  },
  {
   "cell_type": "code",
   "execution_count": 15,
   "metadata": {},
   "outputs": [],
   "source": [
    "from langchain_core.messages import RemoveMessage\n",
    "\n",
    "def delete_messages(state: AgentState) -> AgentState:\n",
    "    \"\"\"\n",
    "    주어진 state에서 오래된 메시지를 삭제합니다.\n",
    "\n",
    "    Args:\n",
    "        state (AgentState): 메시지를 포함하는 state.\n",
    "\n",
    "    Returns:\n",
    "        AgentState: 삭제된 메시지를 포함하는 새로운 state.\n",
    "    \"\"\"\n",
    "    # state에서 메시지를 가져옵니다.\n",
    "    messages = state['messages']\n",
    "    # 마지막 세 개의 메시지를 제외한 나머지 메시지를 삭제합니다.\n",
    "    delete_messages = [RemoveMessage(id=message.id) for message in messages[:-3]]\n",
    "    # 삭제된 메시지를 포함하는 새로운 state를 반환합니다.\n",
    "    return {'messages': delete_messages}"
   ]
  },
  {
   "cell_type": "markdown",
   "metadata": {},
   "source": [
    "- 영상에는 수정하면서 누락된 부분입니다 (MessagesState -> AgentState)\n",
    "- `should_continue`는 `summary`를 바라보지 않기 때문에 에러가 발생하지는 않습니다"
   ]
  },
  {
   "cell_type": "code",
   "execution_count": 16,
   "metadata": {},
   "outputs": [],
   "source": [
    "from typing import Literal\n",
    "\n",
    "def should_continue(state: AgentState) -> Literal['tools', 'summarize_messages']:\n",
    "    \"\"\"\n",
    "    주어진 state에 따라 다음 단계로 진행할지를 결정합니다.\n",
    "\n",
    "    Args:\n",
    "        state (AgentState): 메시지와 도구 호출 정보를 포함하는 state.\n",
    "\n",
    "    Returns:\n",
    "        Literal['tools', 'summarize_messages']: 다음 단계로 'tools' 또는 'summarize_messages'를 반환합니다.\n",
    "    \"\"\"\n",
    "    # state에서 메시지를 가져옵니다.\n",
    "    messages = state['messages']\n",
    "    # 마지막 AI 메시지를 확인합니다.\n",
    "    last_ai_message = messages[-1]\n",
    "    \n",
    "    # 마지막 AI 메시지가 도구 호출을 포함하고 있는지 확인합니다.\n",
    "    if last_ai_message.tool_calls:\n",
    "        # 도구 호출이 있으면 'tools'를 반환합니다.\n",
    "        return 'human_review'\n",
    "    \n",
    "    # 도구 호출이 없으면 'summarize_messages'를 반환합니다.\n",
    "    return 'summarize_messages'"
   ]
  },
  {
   "cell_type": "markdown",
   "metadata": {},
   "source": [
    "- `node`를 추가하고 `edge`로 연결합니다"
   ]
  },
  {
   "cell_type": "code",
   "execution_count": 17,
   "metadata": {},
   "outputs": [
    {
     "data": {
      "text/plain": [
       "<langgraph.graph.state.StateGraph at 0x137d54050>"
      ]
     },
     "execution_count": 17,
     "metadata": {},
     "output_type": "execute_result"
    }
   ],
   "source": [
    "graph_builder.add_node('agent', agent)\n",
    "graph_builder.add_node('tools', tool_node)\n",
    "graph_builder.add_node(human_review)\n",
    "graph_builder.add_node(delete_messages)\n",
    "graph_builder.add_node(summarize_messages)"
   ]
  },
  {
   "cell_type": "code",
   "execution_count": 18,
   "metadata": {},
   "outputs": [
    {
     "data": {
      "text/plain": [
       "<langgraph.graph.state.StateGraph at 0x137d54050>"
      ]
     },
     "execution_count": 18,
     "metadata": {},
     "output_type": "execute_result"
    }
   ],
   "source": [
    "from langgraph.graph import START, END\n",
    "\n",
    "\n",
    "graph_builder.add_edge(START, 'agent')\n",
    "graph_builder.add_conditional_edges(\n",
    "    'agent',\n",
    "    should_continue,\n",
    "    ['human_review', 'summarize_messages']\n",
    ")\n",
    "graph_builder.add_edge('tools', 'agent')\n",
    "graph_builder.add_edge('summarize_messages', 'delete_messages')\n",
    "graph_builder.add_edge('delete_messages', END)"
   ]
  },
  {
   "cell_type": "markdown",
   "metadata": {},
   "source": [
    "- 히스토리 관리를 위해 `checkpointer`를 사용합니다\n",
    "    - `MemorySaver`는 메모리에 저장하는 방법입니다\n"
   ]
  },
  {
   "cell_type": "code",
   "execution_count": 19,
   "metadata": {},
   "outputs": [],
   "source": [
    "from langgraph.checkpoint.memory import MemorySaver\n",
    "\n",
    "checkpointer = MemorySaver()\n",
    "\n",
    "graph= graph_builder.compile(checkpointer=checkpointer)"
   ]
  },
  {
   "cell_type": "code",
   "execution_count": 20,
   "metadata": {},
   "outputs": [
    {
     "data": {
      "image/png": "[encoded data removed]",
      "text/plain": [
       "<IPython.core.display.Image object>"
      ]
     },
     "metadata": {},
     "output_type": "display_data"
    }
   ],
   "source": [
    "from IPython.display import Image, display\n",
    "\n",
    "display(Image(graph.get_graph().draw_mermaid_png()))"
   ]
  },
  {
   "cell_type": "markdown",
   "metadata": {},
   "source": [
    "- `checkpointer`를 사용하는 경우, 관리를 위해 `thread_id`를 사용합니다"
   ]
  },
  {
   "cell_type": "code",
   "execution_count": 28,
   "metadata": {},
   "outputs": [
    {
     "name": "stdout",
     "output_type": "stream",
     "text": [
      "================================\u001b[1m Human Message \u001b[0m=================================\n",
      "\n",
      "LLM survey 논문의 내용을 요약해주세요.\n",
      "==================================\u001b[1m Ai Message \u001b[0m==================================\n",
      "Tool Calls:\n",
      "  arxiv (call_jeLeeZjOtQR8hAkLKiTqmXo7)\n",
      " Call ID: call_jeLeeZjOtQR8hAkLKiTqmXo7\n",
      "  Args:\n",
      "    query: Large Language Model survey\n"
     ]
    }
   ],
   "source": [
    "from langchain_core.messages import HumanMessage\n",
    "\n",
    "config = {\n",
    "    'configurable': {\n",
    "        'thread_id': 'summarize_paper'\n",
    "    }\n",
    "}\n",
    "\n",
    "query = 'LLM survey 논문의 내용을 요약해주세요.'\n",
    "for chunk in graph.stream({'messages': [HumanMessage(query)], 'summary': ''}, config=config, stream_mode='values'):\n",
    "    chunk['messages'][-1].pretty_print()"
   ]
  },
  {
   "cell_type": "code",
   "execution_count": 22,
   "metadata": {},
   "outputs": [
    {
     "data": {
      "text/plain": [
       "[HumanMessage(content='LLM survey 논문의 내용을 요약해주세요.', additional_kwargs={}, response_metadata={}, id='01fbd6a7-9454-49b3-a3f9-8101ca5db6e7'),\n",
       " AIMessage(content='', additional_kwargs={'tool_calls': [{'id': 'call_QOF4uPH8HliP7pPCfmfCqBLG', 'function': {'arguments': '{\"query\":\"LLM survey\"}', 'name': 'arxiv'}, 'type': 'function'}], 'refusal': None}, response_metadata={'token_usage': {'completion_tokens': 16, 'prompt_tokens': 746, 'total_tokens': 762, 'completion_tokens_details': {'accepted_prediction_tokens': 0, 'audio_tokens': 0, 'reasoning_tokens': 0, 'rejected_prediction_tokens': 0}, 'prompt_tokens_details': {'audio_tokens': 0, 'cached_tokens': 0}}, 'model_name': 'gpt-4o-mini-2024-07-18', 'system_fingerprint': 'fp_34a54ae93c', 'finish_reason': 'tool_calls', 'logprobs': None}, id='run-82c3a60f-dc45-4ea0-8465-4513bc323b2d-0', tool_calls=[{'name': 'arxiv', 'args': {'query': 'LLM survey'}, 'id': 'call_QOF4uPH8HliP7pPCfmfCqBLG', 'type': 'tool_call'}], usage_metadata={'input_tokens': 746, 'output_tokens': 16, 'total_tokens': 762, 'input_token_details': {'audio': 0, 'cache_read': 0}, 'output_token_details': {'audio': 0, 'reasoning': 0}})]"
      ]
     },
     "execution_count": 22,
     "metadata": {},
     "output_type": "execute_result"
    }
   ],
   "source": [
    "current_message_list = graph.get_state(config).values['messages']\n",
    "current_message_list"
   ]
  },
  {
   "cell_type": "code",
   "execution_count": 23,
   "metadata": {},
   "outputs": [
    {
     "data": {
      "text/plain": [
       "('human_review',)"
      ]
     },
     "execution_count": 23,
     "metadata": {},
     "output_type": "execute_result"
    }
   ],
   "source": [
    "graph.get_state(config).next"
   ]
  },
  {
   "cell_type": "code",
   "execution_count": 24,
   "metadata": {},
   "outputs": [
    {
     "name": "stdout",
     "output_type": "stream",
     "text": [
      "{'human_review': {'messages': [{'id': 'run-82c3a60f-dc45-4ea0-8465-4513bc323b2d-0', 'role': 'ai', 'content': '', 'tool_calls': [{'id': 'call_QOF4uPH8HliP7pPCfmfCqBLG', 'name': 'arxiv', 'args': {'query': 'Large Language Model: A Survey'}}]}]}}\n",
      "{'tools': {'messages': [ToolMessage(content='Published: 2024-12-09\\nTitle: Questioning the Survey Responses of Large Language Models\\nAuthors: Ricardo Dominguez-Olmedo, Moritz Hardt, Celestine Mendler-Dünner\\nSummary: Surveys have recently gained popularity as a tool to study large language\\nmodels. By comparing survey responses of models to those of human reference\\npopulations, researchers aim to infer the demographics, political opinions, or\\nvalues best represented by current language models. In this work, we critically\\nexamine this methodology on the basis of the well-established American\\nCommunity Survey by the U.S. Census Bureau. Evaluating 43 different language\\nmodels using de-facto standard prompting methodologies, we establish two\\ndominant patterns. First, models\\' responses are governed by ordering and\\nlabeling biases, for example, towards survey responses labeled with the letter\\n\"A\". Second, when adjusting for these systematic biases through randomized\\nanswer ordering, models across the board trend towards uniformly random survey\\nresponses, irrespective of model size or pre-training data. As a result, in\\ncontrast to conjectures from prior work, survey-derived alignment measures\\noften permit a simple explanation: models consistently appear to better\\nrepresent subgroups whose aggregate statistics are closest to uniform for any\\nsurvey under consideration.\\n\\nPublished: 2024-10-08\\nTitle: Large Language Model Enhanced Text-to-SQL Generation: A Survey\\nAuthors: Xiaohu Zhu, Qian Li, Lizhen Cui, Yongkang Liu\\nSummary: Text-to-SQL translates natural language queries into Structured Query\\nLanguage (SQL) commands, enabling users to interact with databases using\\nnatural language. Essentially, the text-to-SQL task is a text generation task,\\nand its development is primarily dependent on changes in language models.\\nEspecially with the rapid development of Large Language Models (LLMs), the\\npattern of text-to-SQL has undergone significant changes. Existing survey work\\nmainly focuses on rule-based and neural-based approaches, but it still lacks a\\nsurvey of Text-to-SQL with LLMs. In this paper, we survey the large language\\nmodel enhanced text-to-SQL generations, classifying them into prompt\\nengineering, fine-tuning, pre-trained, and Agent groups according to training\\nstrategies. We also summarize datasets and evaluation metrics comprehensively.\\nThis survey could help people better understand the pattern, research status,\\nand challenges of LLM-based text-to-SQL generations.\\n\\nPublished: 2025-06-03\\nTitle: Trajectory Prediction Meets Large Language Models: A Survey\\nAuthors: Yi Xu, Ruining Yang, Yitian Zhang, Yizhou Wang, Jianglin Lu, Mingyuan Zhang, Lili Su, Yun Fu\\nSummary: Recent advances in large language models (LLMs) have sparked growing interest\\nin integrating language-driven techniques into trajectory prediction. By\\nleveraging their semantic and reasoning capabilities, LLMs are reshaping how\\nautonomous systems perceive, model, and predict trajectories. This survey\\nprovides a comprehensive overview of this emerging field, categorizing recent\\nwork into five directions: (1) Trajectory prediction via language modeling\\nparadigms, (2) Direct trajectory prediction with pretrained language models,\\n(3) Language-guided scene understanding for trajectory prediction, (4)\\nLanguage-driven data generation for trajectory prediction, (5) Language-based\\nreasoning and interpretability for trajectory prediction. For each, we analyze\\nrepresentative methods, highlight core design choices, and identify open\\nchallenges. This survey bridges natural language processing and trajectory\\nprediction, offering a unified perspective on how language can enrich\\ntrajectory prediction.', name='arxiv', id='b17d6cd5-3145-4a7e-ae81-7ab59c1b59ac', tool_call_id='call_QOF4uPH8HliP7pPCfmfCqBLG')]}}\n",
      "{'agent': {'messages': [AIMessage(content='여기 \"Large Language Model: A Survey\"에 대한 세 가지 주요 논문의 요약이 있습니다:\\n\\n1. **Questioning the Survey Responses of Large Language Models** (2024-12-09)\\n   - 저자: Ricardo Dominguez-Olmedo, Moritz Hardt, Celestine Mendler-Dünner\\n   - 이 논문은 대규모 언어 모델의 설문 응답을 연구하는 새로운 방법론을 비판적으로 검토합니다. 43개 언어 모델을 평가한 결과, 모델의 응답이 순서 및 레이블 편향에 의해 영향을 받으며, 무작위 답변 순서를 조정했을 때 모델들이 일관되게 무작위 응답 경향을 보인다는 것을 발견했습니다. 이는 모델이 집계 통계가 거의 균일한 하위 그룹을 더 잘 나타내는 경향이 있음을 의미합니다.\\n\\n2. **Large Language Model Enhanced Text-to-SQL Generation: A Survey** (2024-10-08)\\n   - 저자: Xiaohu Zhu, Qian Li, Lizhen Cui, Yongkang Liu\\n   - 이 논문은 자연어 쿼리를 SQL 명령으로 변환하는 텍스트-투-SQL 작업을 대규모 언어 모델(LLM)을 활용하여 조사합니다. 기존의 연구는 주로 규칙 기반 및 신경망 기반 접근법에 초점을 맞추었으나, LLM을 활용한 텍스트-투-SQL에 대한 포괄적인 조사가 부족했습니다. 이 논문은 LLM 기반 텍스트-투-SQL 생성을 훈련 전략에 따라 분류하고, 데이터셋 및 평가 지표를 종합적으로 요약합니다.\\n\\n3. **Trajectory Prediction Meets Large Language Models: A Survey** (2025-06-03)\\n   - 저자: Yi Xu, Ruining Yang, Yitian Zhang, Yizhou Wang, Jianglin Lu, Mingyuan Zhang, Lili Su, Yun Fu\\n   - 이 논문은 대규모 언어 모델(LLM)과 궤적 예측의 통합에 대한 최근 발전을 다룹니다. LLM의 의미론적 및 추론 능력을 활용하여 자율 시스템이 궤적을 인식하고 예측하는 방법을 혁신하고 있습니다. 이 논문은 최근 연구를 다섯 가지 방향으로 분류하고, 각 방향에서 대표적인 방법과 핵심 설계 선택 사항, 그리고 열린 도전 과제를 분석합니다.\\n\\n이 논문들은 LLM의 다양한 응용 분야와 그로 인한 발전을 다루고 있습니다.', additional_kwargs={'refusal': None}, response_metadata={'token_usage': {'completion_tokens': 562, 'prompt_tokens': 1516, 'total_tokens': 2078, 'completion_tokens_details': {'accepted_prediction_tokens': 0, 'audio_tokens': 0, 'reasoning_tokens': 0, 'rejected_prediction_tokens': 0}, 'prompt_tokens_details': {'audio_tokens': 0, 'cached_tokens': 0}}, 'model_name': 'gpt-4o-mini-2024-07-18', 'system_fingerprint': 'fp_34a54ae93c', 'finish_reason': 'stop', 'logprobs': None}, id='run-b551f93f-d7fb-443a-a5a1-cf2924102bf4-0', usage_metadata={'input_tokens': 1516, 'output_tokens': 562, 'total_tokens': 2078, 'input_token_details': {'audio': 0, 'cache_read': 0}, 'output_token_details': {'audio': 0, 'reasoning': 0}})]}}\n",
      "{'summarize_messages': {'summary': 'The chat history involves a request for a summary of the contents of a survey paper on large language models (LLMs). The AI responds by retrieving and summarizing three relevant papers:\\n\\n1. **Questioning the Survey Responses of Large Language Models** (2024-12-09) by Ricardo Dominguez-Olmedo, Moritz Hardt, and Celestine Mendler-Dünner:\\n   - This paper critiques the methodology used to study LLMs through surveys. It evaluates responses from 43 models and finds that responses are influenced by ordering and labeling biases. When these biases are adjusted, models tend to give uniformly random responses, suggesting they better represent subgroups with aggregate statistics closest to uniform.\\n\\n2. **Large Language Model Enhanced Text-to-SQL Generation: A Survey** (2024-10-08) by Xiaohu Zhu, Qian Li, Lizhen Cui, and Yongkang Liu:\\n   - This paper surveys the application of LLMs in converting natural language queries into SQL commands. It categorizes LLM-based text-to-SQL approaches by training strategies and provides a comprehensive summary of datasets and evaluation metrics, addressing the current state and challenges in this area.\\n\\n3. **Trajectory Prediction Meets Large Language Models: A Survey** (2025-06-03) by Yi Xu et al.:\\n   - This paper explores the integration of LLMs into trajectory prediction. It categorizes recent research into five directions and analyzes representative methods, design choices, and open challenges, highlighting how LLMs can enhance the modeling and prediction of trajectories in autonomous systems.\\n\\nOverall, these papers illustrate the diverse applications and advancements of LLMs across different domains.'}}\n",
      "{'delete_messages': {'messages': [RemoveMessage(content='', additional_kwargs={}, response_metadata={}, id='01fbd6a7-9454-49b3-a3f9-8101ca5db6e7')]}}\n"
     ]
    }
   ],
   "source": [
    "for chunk in graph.stream(\n",
    "    Command(resume={'action':'update_args', 'data':{'query':'Large Language Model: A Survey'}}),\n",
    "    config = config,\n",
    "    stream_mode = 'updates'\n",
    "):\n",
    "    print(chunk)"
   ]
  },
  {
   "cell_type": "code",
   "execution_count": 25,
   "metadata": {},
   "outputs": [
    {
     "data": {
      "text/plain": [
       "[AIMessage(content='', additional_kwargs={}, response_metadata={}, id='run-82c3a60f-dc45-4ea0-8465-4513bc323b2d-0', tool_calls=[{'name': 'arxiv', 'args': {'query': 'Large Language Model: A Survey'}, 'id': 'call_QOF4uPH8HliP7pPCfmfCqBLG', 'type': 'tool_call'}]),\n",
       " ToolMessage(content='Published: 2024-12-09\\nTitle: Questioning the Survey Responses of Large Language Models\\nAuthors: Ricardo Dominguez-Olmedo, Moritz Hardt, Celestine Mendler-Dünner\\nSummary: Surveys have recently gained popularity as a tool to study large language\\nmodels. By comparing survey responses of models to those of human reference\\npopulations, researchers aim to infer the demographics, political opinions, or\\nvalues best represented by current language models. In this work, we critically\\nexamine this methodology on the basis of the well-established American\\nCommunity Survey by the U.S. Census Bureau. Evaluating 43 different language\\nmodels using de-facto standard prompting methodologies, we establish two\\ndominant patterns. First, models\\' responses are governed by ordering and\\nlabeling biases, for example, towards survey responses labeled with the letter\\n\"A\". Second, when adjusting for these systematic biases through randomized\\nanswer ordering, models across the board trend towards uniformly random survey\\nresponses, irrespective of model size or pre-training data. As a result, in\\ncontrast to conjectures from prior work, survey-derived alignment measures\\noften permit a simple explanation: models consistently appear to better\\nrepresent subgroups whose aggregate statistics are closest to uniform for any\\nsurvey under consideration.\\n\\nPublished: 2024-10-08\\nTitle: Large Language Model Enhanced Text-to-SQL Generation: A Survey\\nAuthors: Xiaohu Zhu, Qian Li, Lizhen Cui, Yongkang Liu\\nSummary: Text-to-SQL translates natural language queries into Structured Query\\nLanguage (SQL) commands, enabling users to interact with databases using\\nnatural language. Essentially, the text-to-SQL task is a text generation task,\\nand its development is primarily dependent on changes in language models.\\nEspecially with the rapid development of Large Language Models (LLMs), the\\npattern of text-to-SQL has undergone significant changes. Existing survey work\\nmainly focuses on rule-based and neural-based approaches, but it still lacks a\\nsurvey of Text-to-SQL with LLMs. In this paper, we survey the large language\\nmodel enhanced text-to-SQL generations, classifying them into prompt\\nengineering, fine-tuning, pre-trained, and Agent groups according to training\\nstrategies. We also summarize datasets and evaluation metrics comprehensively.\\nThis survey could help people better understand the pattern, research status,\\nand challenges of LLM-based text-to-SQL generations.\\n\\nPublished: 2025-06-03\\nTitle: Trajectory Prediction Meets Large Language Models: A Survey\\nAuthors: Yi Xu, Ruining Yang, Yitian Zhang, Yizhou Wang, Jianglin Lu, Mingyuan Zhang, Lili Su, Yun Fu\\nSummary: Recent advances in large language models (LLMs) have sparked growing interest\\nin integrating language-driven techniques into trajectory prediction. By\\nleveraging their semantic and reasoning capabilities, LLMs are reshaping how\\nautonomous systems perceive, model, and predict trajectories. This survey\\nprovides a comprehensive overview of this emerging field, categorizing recent\\nwork into five directions: (1) Trajectory prediction via language modeling\\nparadigms, (2) Direct trajectory prediction with pretrained language models,\\n(3) Language-guided scene understanding for trajectory prediction, (4)\\nLanguage-driven data generation for trajectory prediction, (5) Language-based\\nreasoning and interpretability for trajectory prediction. For each, we analyze\\nrepresentative methods, highlight core design choices, and identify open\\nchallenges. This survey bridges natural language processing and trajectory\\nprediction, offering a unified perspective on how language can enrich\\ntrajectory prediction.', name='arxiv', id='b17d6cd5-3145-4a7e-ae81-7ab59c1b59ac', tool_call_id='call_QOF4uPH8HliP7pPCfmfCqBLG'),\n",
       " AIMessage(content='여기 \"Large Language Model: A Survey\"에 대한 세 가지 주요 논문의 요약이 있습니다:\\n\\n1. **Questioning the Survey Responses of Large Language Models** (2024-12-09)\\n   - 저자: Ricardo Dominguez-Olmedo, Moritz Hardt, Celestine Mendler-Dünner\\n   - 이 논문은 대규모 언어 모델의 설문 응답을 연구하는 새로운 방법론을 비판적으로 검토합니다. 43개 언어 모델을 평가한 결과, 모델의 응답이 순서 및 레이블 편향에 의해 영향을 받으며, 무작위 답변 순서를 조정했을 때 모델들이 일관되게 무작위 응답 경향을 보인다는 것을 발견했습니다. 이는 모델이 집계 통계가 거의 균일한 하위 그룹을 더 잘 나타내는 경향이 있음을 의미합니다.\\n\\n2. **Large Language Model Enhanced Text-to-SQL Generation: A Survey** (2024-10-08)\\n   - 저자: Xiaohu Zhu, Qian Li, Lizhen Cui, Yongkang Liu\\n   - 이 논문은 자연어 쿼리를 SQL 명령으로 변환하는 텍스트-투-SQL 작업을 대규모 언어 모델(LLM)을 활용하여 조사합니다. 기존의 연구는 주로 규칙 기반 및 신경망 기반 접근법에 초점을 맞추었으나, LLM을 활용한 텍스트-투-SQL에 대한 포괄적인 조사가 부족했습니다. 이 논문은 LLM 기반 텍스트-투-SQL 생성을 훈련 전략에 따라 분류하고, 데이터셋 및 평가 지표를 종합적으로 요약합니다.\\n\\n3. **Trajectory Prediction Meets Large Language Models: A Survey** (2025-06-03)\\n   - 저자: Yi Xu, Ruining Yang, Yitian Zhang, Yizhou Wang, Jianglin Lu, Mingyuan Zhang, Lili Su, Yun Fu\\n   - 이 논문은 대규모 언어 모델(LLM)과 궤적 예측의 통합에 대한 최근 발전을 다룹니다. LLM의 의미론적 및 추론 능력을 활용하여 자율 시스템이 궤적을 인식하고 예측하는 방법을 혁신하고 있습니다. 이 논문은 최근 연구를 다섯 가지 방향으로 분류하고, 각 방향에서 대표적인 방법과 핵심 설계 선택 사항, 그리고 열린 도전 과제를 분석합니다.\\n\\n이 논문들은 LLM의 다양한 응용 분야와 그로 인한 발전을 다루고 있습니다.', additional_kwargs={'refusal': None}, response_metadata={'token_usage': {'completion_tokens': 562, 'prompt_tokens': 1516, 'total_tokens': 2078, 'completion_tokens_details': {'accepted_prediction_tokens': 0, 'audio_tokens': 0, 'reasoning_tokens': 0, 'rejected_prediction_tokens': 0}, 'prompt_tokens_details': {'audio_tokens': 0, 'cached_tokens': 0}}, 'model_name': 'gpt-4o-mini-2024-07-18', 'system_fingerprint': 'fp_34a54ae93c', 'finish_reason': 'stop', 'logprobs': None}, id='run-b551f93f-d7fb-443a-a5a1-cf2924102bf4-0', usage_metadata={'input_tokens': 1516, 'output_tokens': 562, 'total_tokens': 2078, 'input_token_details': {'audio': 0, 'cache_read': 0}, 'output_token_details': {'audio': 0, 'reasoning': 0}})]"
      ]
     },
     "execution_count": 25,
     "metadata": {},
     "output_type": "execute_result"
    }
   ],
   "source": [
    "graph.get_state(config).values['messages']"
   ]
  },
  {
   "cell_type": "code",
   "execution_count": 29,
   "metadata": {},
   "outputs": [
    {
     "name": "stdout",
     "output_type": "stream",
     "text": [
      "{'human_review': {'messages': [{'tool_call_id': 'call_jeLeeZjOtQR8hAkLKiTqmXo7', 'name': 'arxiv', 'role': 'tool', 'content': 'arxiv 말고 web에서 검색해주세요.'}]}}\n",
      "{'agent': {'messages': [AIMessage(content='', additional_kwargs={'tool_calls': [{'id': 'call_a1ofA1W3eBoCyVkHEhp4bvGg', 'function': {'arguments': '{\"query\":\"Large Language Model survey summary\"}', 'name': 'duckduckgo_search'}, 'type': 'function'}], 'refusal': None}, response_metadata={'token_usage': {'completion_tokens': 21, 'prompt_tokens': 2115, 'total_tokens': 2136, 'completion_tokens_details': {'accepted_prediction_tokens': 0, 'audio_tokens': 0, 'reasoning_tokens': 0, 'rejected_prediction_tokens': 0}, 'prompt_tokens_details': {'audio_tokens': 0, 'cached_tokens': 2048}}, 'model_name': 'gpt-4o-mini-2024-07-18', 'system_fingerprint': 'fp_34a54ae93c', 'finish_reason': 'tool_calls', 'logprobs': None}, id='run-9778d287-2e39-4029-b77e-a5192c01d248-0', tool_calls=[{'name': 'duckduckgo_search', 'args': {'query': 'Large Language Model survey summary'}, 'id': 'call_a1ofA1W3eBoCyVkHEhp4bvGg', 'type': 'tool_call'}], usage_metadata={'input_tokens': 2115, 'output_tokens': 21, 'total_tokens': 2136, 'input_token_details': {'audio': 0, 'cache_read': 2048}, 'output_token_details': {'audio': 0, 'reasoning': 0}})]}}\n",
      "{'__interrupt__': (Interrupt(value={'question': '이렇게 진행하면 될까요?', 'tool_call': {'name': 'duckduckgo_search', 'args': {'query': 'Large Language Model survey summary'}, 'id': 'call_a1ofA1W3eBoCyVkHEhp4bvGg', 'type': 'tool_call'}}, resumable=True, ns=['human_review:8061af48-32f9-e528-dfc1-02ef7330dfa9'], when='during'),)}\n"
     ]
    }
   ],
   "source": [
    "for chunk in graph.stream(\n",
    "    Command(resume={'action':'update_tool', 'data':\"arxiv 말고 web에서 검색해주세요.\"}),\n",
    "    config = config,\n",
    "    stream_mode = 'updates'\n",
    "):\n",
    "    print(chunk)"
   ]
  },
  {
   "cell_type": "code",
   "execution_count": 30,
   "metadata": {},
   "outputs": [
    {
     "name": "stdout",
     "output_type": "stream",
     "text": [
      "{'human_review': None}\n"
     ]
    },
    {
     "name": "stderr",
     "output_type": "stream",
     "text": [
      "/Users/a202304035/llm_agent_practice/.venv/lib/python3.13/site-packages/langchain_community/utilities/duckduckgo_search.py:64: UserWarning: 'api' backend is deprecated, using backend='auto'\n",
      "  ddgs_gen = ddgs.text(\n"
     ]
    },
    {
     "name": "stdout",
     "output_type": "stream",
     "text": [
      "{'tools': {'messages': [ToolMessage(content='2023. 4. 6. ... 특성 · (의도치 않게 발현된) 놀라운 기능들 · LLM은 AI 알고리즘 개발 및 사용 방식을 혁신합니다. · LLM의 개발에는 연구와 엔지니어링의 구분이 명확\\xa0... 2024. 2. 9. ... Abstract:Large Language Models (LLMs) have drawn a lot of attention due to their strong performance on a wide range of natural language\\xa0... 2024. 4. 17. ... 이 섹션에서는 LLM의 배경에 대한 개요를 제시하고 GPT 시리즈 모델의 기술적 발전을 요약합니다. 2.1. Background for LLMs. 일반적으로 LLM(대형 언어\\xa0... 2023. 3. 31. ... Interestingly, when the parameter scale exceeds a certain level, these enlarged language models not only achieve a significant performance\\xa0... 2024. 9. 18. ... ✓ Abstract · 여기서는 3가지 가장 인기있는 LLM Families (GPT, LLaMA, PaLM)을 포함하여 가장 눈에 띄는 LLM을 review하고, 그 특징과 기여도, 한계에\\xa0...', name='duckduckgo_search', id='fc28d331-1b9f-4ac2-9b33-a17747e87053', tool_call_id='call_a1ofA1W3eBoCyVkHEhp4bvGg')]}}\n",
      "{'agent': {'messages': [AIMessage(content='여기 LLM(대규모 언어 모델)에 대한 설문 및 리뷰에서 다루어지는 주요 내용입니다:\\n\\n1. **LLM의 배경**: LLM은 자연어 처리(NLP) 분야에서 강력한 성능을 보이며, 이러한 모델의 발전은 AI 알고리즘 개발과 사용 방식을 혁신하고 있습니다.\\n\\n2. **주요 LLM 패밀리**: GPT, LLaMA, PaLM과 같은 가장 인기 있는 LLM 패밀리를 포함하여 각각의 특징, 기여도, 한계 등을 리뷰합니다. 이러한 모델들은 대량의 데이터를 기반으로 학습하며, 결과적으로 자연어 이해 및 생성에서 높은 성능을 발휘합니다.\\n\\n3. **기술적 발전**: GPT 시리즈 모델의 기술적 발전을 요약하며, 파라미터 규모가 특정 수준을 초과할 때 성능이 비약적으로 향상된다는 점을 강조합니다.\\n\\n4. **놀라운 기능들**: LLM은 의도치 않게 발현된 놀라운 기능들을 가지고 있으며, 이는 모델의 일반화 능력과 적응성을 보여줍니다.\\n\\n5. **연구와 엔지니어링의 구분**: LLM의 개발 과정에서 연구와 엔지니어링의 경계가 모호해지는 경향이 있으며, 이는 모델의 개발과 배포에 있어 새로운 도전 과제를 제시합니다.\\n\\n이러한 내용은 LLM의 발전과 그 응용 가능성에 대한 깊은 이해를 제공하며, NLP 분야에서의 LLM의 중요성을 강조합니다.', additional_kwargs={'refusal': None}, response_metadata={'token_usage': {'completion_tokens': 341, 'prompt_tokens': 2411, 'total_tokens': 2752, 'completion_tokens_details': {'accepted_prediction_tokens': 0, 'audio_tokens': 0, 'reasoning_tokens': 0, 'rejected_prediction_tokens': 0}, 'prompt_tokens_details': {'audio_tokens': 0, 'cached_tokens': 2048}}, 'model_name': 'gpt-4o-mini-2024-07-18', 'system_fingerprint': 'fp_34a54ae93c', 'finish_reason': 'stop', 'logprobs': None}, id='run-1bb8fd1e-b14a-476a-b562-4b4912650bb6-0', usage_metadata={'input_tokens': 2411, 'output_tokens': 341, 'total_tokens': 2752, 'input_token_details': {'audio': 0, 'cache_read': 2048}, 'output_token_details': {'audio': 0, 'reasoning': 0}})]}}\n",
      "{'summarize_messages': {'summary': 'The chat history revolves around summarizing research papers related to large language models (LLMs). Here are the key points:\\n\\n1. **Questioning the Survey Responses of Large Language Models** (Published: 2024-12-09)\\n   - This paper critiques the methodology of using surveys to study LLMs, finding that model responses are influenced by biases in ordering and labeling. When biases are adjusted, models tend to give random responses, suggesting that they better represent subgroups with uniform aggregate statistics.\\n\\n2. **Large Language Model Enhanced Text-to-SQL Generation: A Survey** (Published: 2024-10-08)\\n   - This survey focuses on the translation of natural language queries into SQL commands using LLMs. It categorizes LLM-based text-to-SQL methods into various training strategies and summarizes datasets and evaluation metrics, addressing the research landscape and challenges in this area.\\n\\n3. **Trajectory Prediction Meets Large Language Models: A Survey** (Published: 2025-06-03)\\n   - The paper discusses how LLMs are integrated into trajectory prediction, outlining five research directions: language modeling paradigms, direct prediction with pretrained models, scene understanding, data generation, and reasoning. It identifies core design choices and challenges in this emerging field.\\n\\nAdditional information highlights the general background of LLMs, their popular families (e.g., GPT, LLaMA, PaLM), technical advancements, and the blurred lines between research and engineering in LLM development. The chat concludes with an emphasis on the significance of LLMs in advancing natural language processing.'}}\n",
      "{'delete_messages': {'messages': [RemoveMessage(content='', additional_kwargs={}, response_metadata={}, id='run-82c3a60f-dc45-4ea0-8465-4513bc323b2d-0'), RemoveMessage(content='', additional_kwargs={}, response_metadata={}, id='b17d6cd5-3145-4a7e-ae81-7ab59c1b59ac'), RemoveMessage(content='', additional_kwargs={}, response_metadata={}, id='run-b551f93f-d7fb-443a-a5a1-cf2924102bf4-0'), RemoveMessage(content='', additional_kwargs={}, response_metadata={}, id='0c36fbc7-3d3b-4754-a0b0-f7a0e4ae4fd2'), RemoveMessage(content='', additional_kwargs={}, response_metadata={}, id='run-5008bbe8-2599-4fb8-92b5-c54732ce46ef-0'), RemoveMessage(content='', additional_kwargs={}, response_metadata={}, id='53c2f0a8-fc68-4a1e-ad7c-ec690970eca9')]}}\n"
     ]
    }
   ],
   "source": [
    "for chunk in graph.stream(\n",
    "    Command(resume={'action':'continue'}),\n",
    "    config = config,\n",
    "    stream_mode = 'updates'\n",
    "):\n",
    "    print(chunk)"
   ]
  },
  {
   "cell_type": "code",
   "execution_count": 31,
   "metadata": {},
   "outputs": [
    {
     "data": {
      "text/plain": [
       "[AIMessage(content='', additional_kwargs={'tool_calls': [{'id': 'call_a1ofA1W3eBoCyVkHEhp4bvGg', 'function': {'arguments': '{\"query\":\"Large Language Model survey summary\"}', 'name': 'duckduckgo_search'}, 'type': 'function'}], 'refusal': None}, response_metadata={'token_usage': {'completion_tokens': 21, 'prompt_tokens': 2115, 'total_tokens': 2136, 'completion_tokens_details': {'accepted_prediction_tokens': 0, 'audio_tokens': 0, 'reasoning_tokens': 0, 'rejected_prediction_tokens': 0}, 'prompt_tokens_details': {'audio_tokens': 0, 'cached_tokens': 2048}}, 'model_name': 'gpt-4o-mini-2024-07-18', 'system_fingerprint': 'fp_34a54ae93c', 'finish_reason': 'tool_calls', 'logprobs': None}, id='run-9778d287-2e39-4029-b77e-a5192c01d248-0', tool_calls=[{'name': 'duckduckgo_search', 'args': {'query': 'Large Language Model survey summary'}, 'id': 'call_a1ofA1W3eBoCyVkHEhp4bvGg', 'type': 'tool_call'}], usage_metadata={'input_tokens': 2115, 'output_tokens': 21, 'total_tokens': 2136, 'input_token_details': {'audio': 0, 'cache_read': 2048}, 'output_token_details': {'audio': 0, 'reasoning': 0}}),\n",
       " ToolMessage(content='2023. 4. 6. ... 특성 · (의도치 않게 발현된) 놀라운 기능들 · LLM은 AI 알고리즘 개발 및 사용 방식을 혁신합니다. · LLM의 개발에는 연구와 엔지니어링의 구분이 명확\\xa0... 2024. 2. 9. ... Abstract:Large Language Models (LLMs) have drawn a lot of attention due to their strong performance on a wide range of natural language\\xa0... 2024. 4. 17. ... 이 섹션에서는 LLM의 배경에 대한 개요를 제시하고 GPT 시리즈 모델의 기술적 발전을 요약합니다. 2.1. Background for LLMs. 일반적으로 LLM(대형 언어\\xa0... 2023. 3. 31. ... Interestingly, when the parameter scale exceeds a certain level, these enlarged language models not only achieve a significant performance\\xa0... 2024. 9. 18. ... ✓ Abstract · 여기서는 3가지 가장 인기있는 LLM Families (GPT, LLaMA, PaLM)을 포함하여 가장 눈에 띄는 LLM을 review하고, 그 특징과 기여도, 한계에\\xa0...', name='duckduckgo_search', id='fc28d331-1b9f-4ac2-9b33-a17747e87053', tool_call_id='call_a1ofA1W3eBoCyVkHEhp4bvGg'),\n",
       " AIMessage(content='여기 LLM(대규모 언어 모델)에 대한 설문 및 리뷰에서 다루어지는 주요 내용입니다:\\n\\n1. **LLM의 배경**: LLM은 자연어 처리(NLP) 분야에서 강력한 성능을 보이며, 이러한 모델의 발전은 AI 알고리즘 개발과 사용 방식을 혁신하고 있습니다.\\n\\n2. **주요 LLM 패밀리**: GPT, LLaMA, PaLM과 같은 가장 인기 있는 LLM 패밀리를 포함하여 각각의 특징, 기여도, 한계 등을 리뷰합니다. 이러한 모델들은 대량의 데이터를 기반으로 학습하며, 결과적으로 자연어 이해 및 생성에서 높은 성능을 발휘합니다.\\n\\n3. **기술적 발전**: GPT 시리즈 모델의 기술적 발전을 요약하며, 파라미터 규모가 특정 수준을 초과할 때 성능이 비약적으로 향상된다는 점을 강조합니다.\\n\\n4. **놀라운 기능들**: LLM은 의도치 않게 발현된 놀라운 기능들을 가지고 있으며, 이는 모델의 일반화 능력과 적응성을 보여줍니다.\\n\\n5. **연구와 엔지니어링의 구분**: LLM의 개발 과정에서 연구와 엔지니어링의 경계가 모호해지는 경향이 있으며, 이는 모델의 개발과 배포에 있어 새로운 도전 과제를 제시합니다.\\n\\n이러한 내용은 LLM의 발전과 그 응용 가능성에 대한 깊은 이해를 제공하며, NLP 분야에서의 LLM의 중요성을 강조합니다.', additional_kwargs={'refusal': None}, response_metadata={'token_usage': {'completion_tokens': 341, 'prompt_tokens': 2411, 'total_tokens': 2752, 'completion_tokens_details': {'accepted_prediction_tokens': 0, 'audio_tokens': 0, 'reasoning_tokens': 0, 'rejected_prediction_tokens': 0}, 'prompt_tokens_details': {'audio_tokens': 0, 'cached_tokens': 2048}}, 'model_name': 'gpt-4o-mini-2024-07-18', 'system_fingerprint': 'fp_34a54ae93c', 'finish_reason': 'stop', 'logprobs': None}, id='run-1bb8fd1e-b14a-476a-b562-4b4912650bb6-0', usage_metadata={'input_tokens': 2411, 'output_tokens': 341, 'total_tokens': 2752, 'input_token_details': {'audio': 0, 'cache_read': 2048}, 'output_token_details': {'audio': 0, 'reasoning': 0}})]"
      ]
     },
     "execution_count": 31,
     "metadata": {},
     "output_type": "execute_result"
    }
   ],
   "source": [
    "graph.get_state(config).values['messages']"
   ]
  },
  {
   "cell_type": "code",
   "execution_count": null,
   "metadata": {},
   "outputs": [],
   "source": []
  }
 ],
 "metadata": {
  "kernelspec": {
   "display_name": "inflearn-langgraph-lecture",
   "language": "python",
   "name": "python3"
  },
  "language_info": {
   "codemirror_mode": {
    "name": "ipython",
    "version": 3
   },
   "file_extension": ".py",
   "mimetype": "text/x-python",
   "name": "python",
   "nbconvert_exporter": "python",
   "pygments_lexer": "ipython3",
   "version": "3.13.5"
  }
 },
 "nbformat": 4,
 "nbformat_minor": 2
}
