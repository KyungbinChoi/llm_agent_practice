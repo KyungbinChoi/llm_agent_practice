{
 "cells": [
  {
   "cell_type": "code",
   "execution_count": 1,
   "metadata": {},
   "outputs": [
    {
     "name": "stderr",
     "output_type": "stream",
     "text": [
      "incorrect startxref pointer(1)\n",
      "parsing for Object Streams\n"
     ]
    }
   ],
   "source": [
    "from langchain_community.document_loaders import PyPDFLoader\n",
    "pdf_file_path = './documents/income_tax.pdf'\n",
    "loader = PyPDFLoader(pdf_file_path)\n",
    "pages = []\n",
    "async for page in loader.alazy_load():\n",
    "    pages.append(page)"
   ]
  },
  {
   "cell_type": "code",
   "execution_count": 2,
   "metadata": {},
   "outputs": [
    {
     "data": {
      "text/plain": [
       "Document(metadata={'source': './documents/income_tax.pdf', 'page': 35}, page_content='')"
      ]
     },
     "execution_count": 2,
     "metadata": {},
     "output_type": "execute_result"
    }
   ],
   "source": [
    "pages[35] # 표의 내용이 포함되지 않음"
   ]
  },
  {
   "cell_type": "code",
   "execution_count": 3,
   "metadata": {},
   "outputs": [],
   "source": [
    "# 1. chatgpt 를 활용한 전처리\n",
    "# 2. zerox (opensource OCR package)"
   ]
  },
  {
   "cell_type": "code",
   "execution_count": 4,
   "metadata": {},
   "outputs": [
    {
     "name": "stderr",
     "output_type": "stream",
     "text": [
      "/Users/a202304035/llm_agent_practice/.venv/lib/python3.13/site-packages/pydantic/_internal/_config.py:341: UserWarning: Valid config keys have changed in V2:\n",
      "* 'fields' has been removed\n",
      "  warnings.warn(message, UserWarning)\n"
     ]
    }
   ],
   "source": [
    "from dotenv import load_dotenv\n",
    "load_dotenv()\n",
    "from pyzerox import zerox"
   ]
  },
  {
   "cell_type": "code",
   "execution_count": 5,
   "metadata": {},
   "outputs": [],
   "source": [
    "import nest_asyncio\n",
    "nest_asyncio.apply()"
   ]
  },
  {
   "cell_type": "code",
   "execution_count": null,
   "metadata": {},
   "outputs": [],
   "source": [
    "'''\n",
    "import asyncio\n",
    "\n",
    "## placeholder for additional model kwargs which might be required for some models\n",
    "kwargs = {}\n",
    "\n",
    "## system prompt to use for the vision model\n",
    "custom_system_prompt = None\n",
    "\n",
    "# to override\n",
    "# custom_system_prompt = \"For the below PDF page, do something..something...\" ## example\n",
    "\n",
    "###################### Example for OpenAI ######################\n",
    "model = \"gpt-4o-mini\" ## openai model\n",
    "\n",
    "# Define main async entrypoint\n",
    "async def main():\n",
    "    file_path = \"./documents/income_tax.pdf\" ## 로컬 파일 경로 및 파일 URL 지원\n",
    "\n",
    "    ## 일부 페이지 또는 전체 페이지를 처리\n",
    "    select_pages = None ## 전체는 None, 특정 페이지는 int 또는 list(int) 페이지 번호 (1부터 시작)\n",
    "\n",
    "    output_dir = \"./documents\" ## 통합된 마크다운 파일을 저장할 디렉토리\n",
    "    result = await zerox(file_path=file_path, model=model, output_dir=output_dir,\n",
    "                        custom_system_prompt=custom_system_prompt, select_pages=select_pages, **kwargs)\n",
    "    return result\n",
    "\n",
    "\n",
    "\n",
    "# run the main function:\n",
    "result = asyncio.run(main())\n",
    "\n",
    "# print markdown result\n",
    "print(result)\n",
    "'''"
   ]
  },
  {
   "cell_type": "code",
   "execution_count": 7,
   "metadata": {},
   "outputs": [],
   "source": [
    "from langchain_community.document_loaders import UnstructuredMarkdownLoader\n",
    "from langchain_core.documents import Document\n",
    "from langchain_text_splitters import RecursiveCharacterTextSplitter\n",
    "\n",
    "text_splitter = RecursiveCharacterTextSplitter(\n",
    "    chunk_size = 1500, # chunk 하나가 가질 수 있는 token 수\n",
    "    chunk_overlap = 100 # chunk 간 token 을 겹치게 하는 범위 (유사도 검색의 성능을 더 올림)\n",
    ")\n"
   ]
  },
  {
   "cell_type": "code",
   "execution_count": 8,
   "metadata": {},
   "outputs": [],
   "source": [
    "markdown_path = \"./documents/income_tax.md\"\n",
    "loader = UnstructuredMarkdownLoader(markdown_path)\n",
    "document_list =loader.load_and_split(text_splitter)"
   ]
  },
  {
   "cell_type": "code",
   "execution_count": 10,
   "metadata": {},
   "outputs": [
    {
     "data": {
      "text/plain": [
       "[Document(metadata={'source': './documents/income_tax.md'}, page_content='국세청장은 제3항에도 불구하고 대통령령으로 정하는 바에 의한 일정 정도의 일정 구간 이하에 해당되는 나래에 지명보험서를 위로 제출하게 할 수 있다.\\n\\n원천징수의무자가 원천징수하여 대통령령으로 정하는 바에 따라 제출할 원천징수 관련 서류 중 지로명세서에 해당하는 것이 아닌 그 제출한 부분에 대한 사항을 재판해 매출·매입별 계산서합계표(제163조제8항 및 제9항)에 따라 사업자 관련 세무서장이 제출한 매출·매입별 계산서합계표(제163조제8항) 및 법에 따른 전자세금계산서를 국세청장이 제출하는 경우를 포함하다) 과 지명보험에 해당하는 것이 있으면 제출한 부분에 대한 기름명세서를 제출한 경우에는 그 제출한 부분에 대하여 지명명세서를 제출할 것으로 본다.\\n\\n원천징수와 관련 세무서장, 지자체세장 등 국세청장이 필요한 때는 지명보험서의 제출을 유찰할 수 있다. <신설 2022. 12. 31.>\\n\\n제1항에 따라 지명자를 대리하거나 위험을 받는 자의 행위는 수급 또는 위험인 비율에 의하면 비율인 외의 비율인이고 행위를 보고 제정법을 적용한다. <개정 2022. 12. 31.>\\n\\n국세청장은 제19조제1항에 따른 기타소득 중 대통령령, 제20조제1항 외의 경비를 받은 경우에는 사람들로 행세기타소득의 납세의무에 제공하여야 한다. <개정 2022. 12. 31.>\\n\\n제18항 및 제19항의 규정에 따른 지명보험서의 제출에 필요한 사항은 대통령령으로 정한다. <개정 2022.>\\n\\n[전문개정 2009. 12. 31.]\\n\\n[시행일: 2024. 1. 1. 제164조제7항의 개정규정 중 “제3호의 소득” 개정부분]\\n\\n제164조(지명보험서의 제출)\\n\\n제2조에 따라 소득세 납세의무가 있는 개인에게 다음 호에 의한 이자 또는 이자를 국내외에 지급하는 자(법인, 제172조제3호에 따른 개인 및 법인과 마찬가지로 지각 권리를 위한 또는 위반된 자 및 제105조에 따른 납세자)는 자가 부가가세법 제103조에 따른 사업자 단체와 사업자를 포함한다. 이 대통령령으로 정하는 바에 따라 지명보험서를 그 제출신청제131조, 제134조제5항 또는 제147조5항 적 용하는 소득에 대해서는 하타 소득에 대한 과세기준 중종을 활용한다. 이하 이 항에 의한 타인은 관리기반 비율이 해당하는 경우 이상 더 많은 비율(제3호에 따른 기타소득으로 포함될 때)에 기타소득 중종으로는 해상금의 숙소는 달의 다음과 함께 말하기가 원천적 권리 및 소득세청장에서 부세처리해제에 제출하여야 한다.\\n\\n담당세무서로서 담당공무원에게 지명이음으로는 보호를 위하는 바에 따라 담의 다음을 말하기는 것에 대한 해상금의 숙소는 본 해당하는 숙소는 달의 다음과 함께 말할 것이다. <개정 2020. 12. 29, 2021. 3. 16.>\\n\\n법제처 151 국가법전정보센터\\n\\n이자소득\\n\\n배당소득\\n\\n원천징수 대상 사업소득\\n\\n근로소득 또는 퇴직소득\\n\\n연금소득\\n\\n기타소득(제7호에 따른 봉사료는 제외한다)\\n\\n대통령령으로 정하는 봉사소득\\n\\n대통령령으로 정하는 장기저축성보험의 보험차익'),\n",
       " Document(metadata={'source': './documents/income_tax.md'}, page_content=\"근로소득 또는 퇴직소득\\n\\n연금소득\\n\\n기타소득(제7호에 따른 봉사료는 제외한다)\\n\\n대통령령으로 정하는 봉사소득\\n\\n대통령령으로 정하는 장기저축성보험의 보험차익\\n\\n금융소득 ① 제1항 각 호의 소득 중 대통령령으로 정하는 소득에 대해서는 제1항을 적용하지 아니할 수 있다. ② 제1항에 따라 지급명세서를 제출하여 하는 자는 지급명세서의 기재 사항을 '국세기본법', 제20조제1항에 따라 전자신고에 의해 제출하되 디지털 전자서명제치를 제출하여 한다. 이 경우 제1항 각 호의 소득 중 대통령령으로 정하는 소득을 지급하는 자는 '조세특례제한법', 제126조제3항에 따른 현금가증금 지급방침 등 대통령령으로 정하는 방법을 통해 제출할 수 있다. ③ 국세청장은 제정한바를 불구하고 대통령령으로 정하는 바에 따라 제출한 원천정수서 가운데 제1항에 해당되는 자에게 지급명세서를 다시 제출하도록 할 수 있다. ④ 원천징수의무자가 원천징수로 하여 대통령령으로 정하는 바에 따라 제출한 원천정수서 중 일부 서류에 해당하는 것이 있으면 그 제출한 부분에 대해서 지급명세서를 제출할 것으로 본다. ⑤ 제163조제1항에 따라 사업감독시 제출된 매임산정계획(제163조제1항 또한 제정됨)에 따라 전자계산서 발급세를 국가정산기본법('구가가사체')에, 제203조제2항 또는 제정법에 따라 전자계산서 발급세를 국가정산기본법에 전환한 경우를 포함한다) 제출할 부분에 대하여 지급명세서를 제출할 것으로 본다. ⑥ 제164조제1항제22조(제73조제1항제1호에 따라 대통령령으로 정하는 사업소득 외의 다른 부분)에 대해 제31조에서 지급명세서를 제출할 경우에는 이를 인지할 수 있도록 하여야 한다. ⑦ 원천징수와 관련하여 세무서장, 지방지세감자장 등 국세청장 등 반 영하고자 할 때에는 지급명세서의 제출을 요구할 수 있다. ⑧ 제1항에 따른 지급자에 대하여 나 위원을 받는 자의 행위는 수단 또는 위임 범위를 벗어난 것이 아닌 범위의 위임의 범위를 보존하기 위하여 함. ⑨ 국세청장은 제164조제16호에 따른 기타소득의 대통령령으로 정하는 기타소득에 대한 지급명세서를 받는 경우에는 대통령령으로 정하는 바에 따라 '국세기본법', 제205조제19호에 따른 조세특례법을 이용하여 명세서를 하도록 하여야 한다. ⑩ 제31부에 따라 1억까지의 규정에 따른 지급명세서의 제출이 필요한 사항은 대통령령으로 정한다. (전문규정 2009. 12. 31.) [시행일: 2024. 1. 1.] 제164조제1항의 개정규정 중 '제3호의 소득'의 개정규범 [시행일: 2025. 1. 1.] 제164조제1항\"),\n",
       " Document(metadata={'source': './documents/income_tax.md'}, page_content=\"제164조2(비거주자와 국내외환소득 증에 대한 지급명세서 제출을 규칙) ① 주세에 지급되는 자(‘자본시장 금융투자업에 관한 법률’에 따라 자산을 상장하는 경우로서 상장 전 이미 변경된 주식)을 이용하는 경우에는 그 주식을 발행하는 방법을 통해 지급명세서를 납세자 신고서에 대해 지급임수한 자 등 연도 이외의 경우에 다음 연도 3월 10일, 휴업 또는 폐업인 경우에는 휴업일 또는 폐업일의 숙차를 달아 일감에 이르 는 제출하여야 한다. 단,\\n\\n소득세법\\n\\n제156조의2에 따라 비과세· 면제대상임이 확인되는 소득 등 대통령령으로 정하는 소득을 지급하는 경우에는 그러하지 아니하다. <개정 2013. 1. 1, 2020. 12. 29.>\\n\\n제8항에 따른 지급명세서의 제출에 관한 사항은 제164조를 준용한다. [전문개정 2009. 12. 31.]\\n\\n제164조의3(간이자금영세서의 제출)\\n\\n① 제2조에 따라 소득세 납세의무가 있는 개인의 이 은 하나에 해당하는 소득을 국내에서 지급하는 자(법인, 제127조제1항에 따른 자금의 지급을 대리한 자 포함)과 지금 관한 위임은 및 제105조에 따른 납세조합, 제72조 또는 '법인세법', 제106조에 따른 원천징수세의 납세를 존중 또는 주사무소의 소속지로 하는 자와 자금이자율별, 제8조제3항 단위 사업자 단위 과세 사업장을 포함하고, 학문, 피명도 내세는 이로 간이자금영세서에 글 소득 지급에 관한 제1조제5도 제144조의5 적용하는 소득에 대하여 해당 소득에 대한 과세기간 종료를 말한다)이 실행할 바의 달의 달 말(학문, 피명도는 해산한 광주에 후영일, 피명일 또는 해산일의 실적 흠의 달의 달 말)에 따라 원천징수 관할 세무서장, 지방국세청장 또는 국제정세에 제출해야 한다. <개정 2019. 12. 31., 2022. 12. 31.>\\n\\n임금근로자가 아닌 근로자에게 지급하는 근로소득\\n\\n원천징수 대상 사업소득\\n\\n제12조제11항의 비해당하는 기타소득\\n\\n② 제1항에 따라 간이자금영세서를 제출해야 하는 자는 간이금융세서의 기재 사항을 '국세기본법', 제2조제18항에 따른 정보의무 등을 제3항에 해당하는 디스크 등 전자적 정보방식에 제출해야 한다. 이 경우 세항의 제1항으로 그대로 부분에 정하는 소득 등 제23조의2에 따라 현금으로 방금기성 대통령령으로 정하는 방법을 제41조의 법에 당해 적정으로 할 수 있다. <개정 2021. 3. 16.>\\n\\n③ 공제세용 또는 국세청장에 따른 자금의 자료의 제26조 규정에 해당되는 자는 간이자금영세서를 문서로 제출해야 할 수 있다. <개정 2021. 3. 16.>\\n\\n④ 제1항부터 제3항까지의 규정에 따른 간이금명세서의 제출에 필요한 사항은 대통령령으로 정한다. <개정 2021. 3. 16.>\\n\\n[본소실 2018. 12. 31.] [제무기장 2021. 3. 16.]\\n\\n[시험일: 2024. 1. 1.] 제164조의3 제1항의 개정규정('제1호의 소득'의 개정부분은 제외한다) [시험일: 2026. 1. 1.] 제164조의3 중 '제1호의 소득'의 개정부분\"),\n",
       " Document(metadata={'source': './documents/income_tax.md'}, page_content=\"제164조의4(가상자산 거래내역 동의 제출)\\n\\n'특정 금융거래정보의 보고 및 이용에 관한 법률', 제조조제에 따른 신규 수립된 가상자산사업자는 가상자산 거래내역 등 소득세 부과에 필요한 자료를 대통령령으로 정하며, 시행자가 발생한 범위에 따른 본 규정 종목을 따라 말할 수 있는 여유가 간이 세무서의 반세를 포함해야 하며,\\n\\n[본소실 2020. 12. 29.]\\n\\n[시행일: 2025. 1. 1. 제164조의4]\\n\\n제164조의5(국외 주식매수시뮬레이터의 제출)\\n\\n내국인 또는 외국법인이 제2조에 따라 제10조의 사업장 또는 외국법인인 제1회와 제2조의 사유가 발생하였고 그 사유가 발생한 과세기간의 다음 연도 3월 10일(학문, 피명도는 해산한 경우에 후용일, 피명일은 해산한 달의 달의 담임을 말하며)까지 제3호의 서류를 납세 관련 세무서장에게 제출해야 한다.\\n\\n하여 내국법인 또는 외국법인이 국내외 사업장이 종사하는 다음 국에서 취득한 임원 및 동임에 있는 임원의 지위가 포함된다, 이하 이 조에서 '임원'이라 한다.\\n\\n법제처\\n\\n153 국가법령정보센터\\n\\n거주자\\n\\n비거주자(제2호가목의 주식매수선택권 또는 같은 호 나목의 주식정지보상) 이 조에서는 “주식매수선택권 등 이라 함은 다음과 같은 소득의 잡소득을 포함하여 제19조에 따라 국내원천소득에 해당하는 사람으로 한정한다)\\n\\n임직원이 다음 각 목의 어느 하나에 해당하게 된 경우 가. 대등형임은 장래의 주식매수선택권을 외국법인으로부터 부여받은 주식매수선택권(이와 유사한 것으로 주식 미리 정한 가격으로 인수 또는 매수할 수 있는 권리를 포함한다)을 행사한 경우 나. 가목의 외국법인으로부터 주식매수선택권을 주시인이 주식가치로 상징하는 금전으로 지불받는 상여금으로서 대등형으로 정하는 것을 말한다) 를 지급받은 경우\\n\\n임직원의 인사책임과 주식매수선택권의 부여 · 행사 등은 기획재정부령으로 정하는 주식매수선택권과 거래명세서 ① 납세지 관할 세무서장은 내국법인 또는 국내사업장을 둔 외국법인의 제1항제3호의 주식매수선택권과 거래명세서를 제출하지 아니하거나 거짓으로 제출한 경우 해당 세무서에 제출한 내용은 고발할 수 있다. ② 제정에 따라 주식매수선택권을 거래명세서에 기재하거나 보관한 자는 그 요건을 받은 날부터 60일 이내에 해당 사류를 제출하여야 한다. [본조신설 2023. 12. 31]\\n\\n제165조(소득공제 및 세액제외 증명서류 제출 행정지도) ① 이 법 또는 [조세특례제한법]에 따라 소득공제 및 세액공제를 받기 위하여 필요한 증명서류(이하 “소득공제 및 세액제외 증명서류”라 한다)를 발급하는 자, 공제 제도를 운영하는 여러 단체의 대표자는 다음과 같은 신실의료법인으로 지정된 5대등법인소를 정하는 자를 포함한다) 정보통신업의 활동 등 대등형으로 정하는 바에 따라 수출업체에게 소득공제 및 세액제외증명서류를 제출하여야 한다. 또한, 소득공제 및 세액제외증명서를 발급받는 자가 사업자 등록을 하지 않을 경우에는 그 자료가 아니라. <개정 2014. 1. 1. 제29>\"),\n",
       " Document(metadata={'source': './documents/income_tax.md'}, page_content=\"② 제1항에 따라 소득공제 및 세액제외증명서를 받는 자는 이를 타인에게 제공하거나, 과세특외의 용도로 사용하여서는 아니 된다. <개정 2014. 1. 1.>\\n\\n③ 제1항에 따라 소득공제 및 세액제외증명서를 받아 그 내용을 알게 된 자 중 공무원이 아닌 자는 ‘형법’이나 그 밖의 법령에 따른 직책은 지정된 데 공무원으로 한다. <개정 2014. 1. 1.>\\n\\n④ 유지청장 소득공제 및 세액제외 증명서류를 발급하는 자에 대하여 그 서류를 국세청장에게 제출하도록 지도할 수 있다. <개정 2014. 1. 1.> [전문개정 2009. 12. 31] [제목개정 2014. 1. 1.]\\n\\n제165조(주민등록 전산정보자료 등의 이용) 소득세의 과세업무 및 정산업무의 원활한 수행을 위하여 ‘주민등록법’에 따른 주민등록 전산정보자료 및 ‘가족관계등록 등에 관한 법률’에 따른 등록전산정보자료의 이용에 필요한 사항은 대등형으로 정한다. <개정 2010. 12. 27.>\\n\\n소틀세반\\n\\n[전문개정 2009. 12. 31.]\\n\\n[제휴개정 2010. 12. 27.]\\n\\n제167조(주민등록 등 인의 작용)\\n\\n① 남제기 관할 세무서장은 거주자가 과세표준청징과 관련해 주민등록표 5등급(주민등록 5등급이라 함)에 의하여 가구관계가 확인되는 경우에는 가구관계 기록 사항에 관한 증명서를 말하며, 이하 '주민등록등급'이라 한다) 에 의한 배워주, 공제대상 부양가족, 공제대상 장애인 또는 공제대상 경로자에 해당하는지를 전산으로 확인하여야 한다. 다만, 남제기 관할 세무서장의 전산 확인이 동하지 아니하는 거주자는 과세표준청징 시 주민등록 등본을 첨부하여 제출하며, 이때 주민등록 등본을 제한하는 경우 로서 공제대상 배우자, 공제대상 부양가족, 공제대상 장애인 또는 공제대상 경로우대자 지능이 변동되지 아니한 경우에는 주민등록 등본을 제출하지 아니한다. ② 비거주자가 과세표준청징을 할 때에는 대출방법을 정하는 바에 따라 의국인등록 등 또는 이에 준 하는 세무를 남제기 관할 세무서장에 제출해야 한다. [전문개정 2009. 12. 31.]\\n\\n제168조(사업등록 및 고유번호의 부여)\\n\\n① 새로 사업을 시작하는 사업자는 대통령령으로 정하는 바에 따라 사업장 소재지 관할 세무서에 등록해야 한다. - ㉠ '국가기본세법'에 따라 사업등록을 하는 사업자는 해당 사업에 관하여 제18항에 따라 등록할 것으로 판단한다. ② 법인에 대한 사업등록을 하는 사업자의 관하여는 “부가가치세법, 제조업법 중관다., 제168조 6.7-”. 사업장 소재지의 법인으로는 단체 및 법인 단체의 소재지 관할 세무서가 다음 각 호의 어느 하나에 해당하는 자에게 대통령령으로 정하는 바에 따라 고유번호를 매길 수 있다. 1. 종합소득이 있는 사업자가 아닌 자 2. '대형일반중간지원법', 대한 등록된 단체 등 과세표준 및 소득증명 사무 경험을 위하여 필요한 일정온의 자 [전문개정 2009. 12. 31.]\\n\\n제169조(교부금의 지급)\"),\n",
       " Document(metadata={'source': './documents/income_tax.md'}, page_content=\"제169조(교부금의 지급)\\n\\n국세청장은 제150조에 따라 소득세를 증수하여 납부한 자에게 대통령령으로 정하는 바에 따라 교부금을 지급하여야 한다. [전문개정 2009. 12. 31.]\\n\\n제170조(질문·조사)\\n\\n① 소틀세에 관한 사무에 종사하는 공무원은 그 직무 수행을 위하여 필요한 경우에는 다음 각 호의 어느 하나에 해당하는 자에게 질문을 하거나 해당 정부·서류 또는 그 밖의 물건을 조사하거나 그 제출을 명할 수 있다. 다만, 제21조제1항제26호에 따른 공공미소득제21조제위생법의 경우를 포함하는 데 대하여 종교단체의 장사 · 서류 또는 그 밖의 물건 중에서 종교의식과 관련된 부분에 한정하여 조사하거나 그 제출을 명할 수 있다. 1. 남제기무자 또는 남제에 의한 인증되는 자 2. 원천징수의무자 3. 남비세통제 및 제정에 관한 자 4. 방문능의를 지원하는 자 및 등록된 단체의 과세관리인 5. 남제에 의해 규정하는 자가 아닌 인증되는 자 6. 기부금 영수증 발급하는 자 7. 제1항을 적용할 경우 소틀세에 관한 사무에 종사하는 공무원은 직무를 위하여 필요한 법의 제6 이하의 목적 등 을 위하여 그 관련을 긴용해야 하는 것이 아니다. [신설 2018. 12. 31., 2020. 12. 29.]\\n\\n법제처 155 국가기본정보센터\\n\\n소맥세반\\n\\n[전문개정 2009. 12. 31.]\\n\\n제171조(자문)\\n\\n세무서장, 지방국세청장 또는 국세청장은 소득세에 관한 신 - 결정 - 경정 또는 조사를 할 때 필요한 사항과 관련된 사항에 대하여 단체 또는 해당 사업에 정통(精通)한 자에게 소득세에 관한 사항을 자문할 수 있다.\\n\\n[전문개정 2009. 12. 31.]\\n\\n제172조(예각·동기 - 동부관세 서류 등의 열람)\\n\\n관할 세무서장, 지방국세청장 또는 그 위임을 받은 세무공무원에게 이 기재의 제한 사항에 소속을 파악하기 위하여 다음 각 호의 자료에 대한 관계 서류의 열람 또는 복사를 요청하는 경우 관계기관은 정당한 사유가 없으면 이에 따라야 한다. 1. 주택, 토지, 공짜재산, 선박, 건설기계 및 자동차 등의 매각·동기·등록자료 2. '국민권익위원회'에 따른 수수료 등의 소득, 재산 및 경비 자료 3. '국민연금법'에 따른 가입자 등의 소득, 재산 및 연금 자료 4. '국민건강보험법'에 따른 가입자 등의 소득, 재산 및 요양급여 자료 5. '고용보험법'에 따른 피보험자 등의 임금 및 급여 자료 6. '산재예방 및 보험법'에 따른 수급자의 임금 및 급여 자료 7. 제1호부터 제6호까지의 자료로 사후관계로 정하는 자료\\n\\n[전문개정 2009. 12. 31.]\\n\\n제173조(운영자장에 관한 과세자료의 제출)\\n\\n② 제202조에 따른 소득세 납세의무가 있는 개인으로서 한국표준산업분류에 따른 대리인으로 소법령으로 대통령을 정하는 자에게 이하 한 자에게 '운영주체등록' 항목에 대해 신고 및 관련 사업장을 제출하는 자도 대통령에 관한 과세자료를 수집할 수 있으며 또는 소득금액 발생하는 바의 다른 말로 말하기가 사업소재관할 세무서장 또는 지방국세청장에게 제출하도록 하여야 한다.\"),\n",
       " Document(metadata={'source': './documents/income_tax.md'}, page_content='<개정 2021. 8. 10.> ③ 국세청은 제1항에 따라 과세자료를 제출하여 할 자가 과세자료를 제출하지 아니하거나 사실과 다르게 제출한 경우에 시정을 필요로 하는 사항을 명할 수 있다. <개정 2021. 8. 10.> ④ 국가 및 지방자치단체는 제1항에 따라 과세자료를 제출하여야 할 자가 과세자료를 성실히 제출하지 않은 경우 필요 행정정지·재정적 지원을 할 수 있다. <신설 2021. 8. 10.> ⑤ 제1항에 따른 과세자료의 작성방법 및 제정청에 따른 행정적·재정적 지원 등에 관한 필요한 사항은 대통령으로 정한다. <개정 2021. 8. 10.>\\n\\n[전문개정 2009. 12. 31.] [제목개정 2021. 8. 10.]\\n\\n제174조(손해보험금 지급자료 제공)\\n\\n보혐업법에 따른 손해보험회사(이하 \"손해보험회사\"라 한다)라는 소송 결과에 따라 보혐증은 지급되는 경우에 대통령으로 정하는 바에 따라 해당 손해보험금 지급자료를 지급받는 과세기간 다음 달 말일까지 손해보험회사에 관한 세무서장에게 제출하여야 한다.\\n\\n[전문개정 2009. 12. 31.]\\n\\n제174조2(파생상품 또는 주식의 거래내역 등 제척)\\n\\n투자자는 다음 각 호의 어느 하나에 해당하는 자료로 대통령으로 정하는 바에 따라 거래 또는 행위가 발생한 이 속하는 금융의 범위에 대하여 관련 세무서장에게 제출하여야 한다. 다만, 제3호에 해당하는 자료는 국세청장이 요하는 날의 말일까지 2개월 이내에 제출하도록 하여야 한다. <개정 2015. 12. 19.> 1. 파생상품 등의 거래내역 등 양도소득세 부과에 필요한 자료 2. 자본시장과 금융투자에 관한 법률 제26조에 따른 장외매매거래의 방법으로 주식의 매매를 증명하는 경우 거래대금 양도소득세 부과에 필요한 자료\\n\\n법제처 156 국각가행정센터\\n\\n양도소득세의 부과에 필요한 제94조제1항제3호가목1)에 해당하는 주식등의 거래내역 등으로 대통령령으로 정하는 바에 따라 국제청장이 요청하는 자료 [법률신문 2015. 12. 15.]\\n\\n제174조의2(금융투자업의 거래・보유 내역 제출 및 보관) ① 제127조제1항에 따른 원천징수의무가 있는 금융회사가(이하 이 조에서 “자료제출대상금융회사”라 한다) 금융투자수익과 과세에 필요한 다음 각 호의 자료를 각 호에서 정하는 바에 따라 신속히 관련 금융시장이에 제출하고 보고하여야 한다. 1. 제87조에 따른 금융투자소득 과세대상인 금융투자상품(지난소득과 금융투자상품, 다음법 제10조에 따른 금융투자소득의 포함)을 갈음하며, 이와 같은 관계에 대하여 중복하여 발생한 달의 소득에 대한 반기별 납부의무의 합계액을 10일 이내에 제출하고, 거래 또는 원위반 발생한 달 이 측의 과세기관에 일별별로 5건 이상의 보관처리 2. 매년 1월 1일 현재 제87조제6항에 따른 금융투자소득 과세대상인 금융투자상품의 보유내역으로서 대통령령으로 정하는 자료, 매년 2회 10일 이내에 제출하고, 제출을 수칙해야 할 의무기관인 별별별권의 사항'),\n",
       " Document(metadata={'source': './documents/income_tax.md'}, page_content='② 국제청장이 금융투자업에 관한 법령, 제105조제2항 따라 금융투자업계의 대통령령으로 정하는 자의 경우에 금융투자업간부기준으로 하여 금융투자업계에 제출해야 한다. ③ 자료제출대상금융회사 및 금융투자업겸리기준도 대통령령으로 정하는 정당한 사유가 있는 경우 대통령령으로 정하는 바에 따라 제4호는 제1조를 제정하는 방식의 전체를 정상해야 한다. 금융투자소득 과세에 필요한 자료 제출 방법 : 절차 및 필요사항을 대통령령으로 정한다. [전문개정 2021. 8. 12.] [시행일자: 2025. 1. 1.]\\n\\n제174조의3 삭제 <2020. 12. 29.>\\n\\n제175조(표준포스 등) ① 납세지 관한 세무서장 또는 지방국세청장은 제34조에 따라 기본금을 필요경비에 산입하거나 제95조의2제4항에 따라 기부금세액공제를 받은 거주자 또는 제121조제2항 및 제79조에서 정한 비영리법자 중 대통령령으로 정하는 자에게 이 조에서 “기부금공제자”란 함에 대하여 필요경비산입 또는 세액공제의 적정성을 검토하기 위하여 해당 관계자료가 중요하도록 2년 이내에 포함되어야 하여야 한다. <개정 2013. 1. 1., 2014. 1. 1.>\\n\\n② 표준포스 방법 및 절차 등에 관한 필요사항을 대통령령으로 정하는 비례에 해야하는 인원에 대하여 실시한다. [전문개정 2009. 12. 31.]\\n\\n제176조 벌칙 <신설 2020. 12. 31.> 제176조 삭제 <2020. 12. 29.>\\n\\n제177조(명령사항 분야에 대한 파트론) 관한 세무서장은 다음 각 호의 어느 하나에 해당하는 명령사항을 위반한 사업자(제163조의 경우에는 법인을 포함한다)에 2년이란 매우 신규를 부과・징수할 수 있다. <개정 2021. 8. 10., 2021. 12. 8.> 1. 제162조제3항에 따른 현물영수증감명의 대한 명령 2. 제173조제2절에 따른 과세자료를 제출하엑 할 자에 대한 명령 [법률신문 2018. 12. 31.]\\n\\n법제처 157 국가법령정보센터\\n\\n부칙 <제19913호,2023. 12. 31.>\\n\\n제1조(시행일) 이 법은 2024년 1월 1일부터 시행한다. 다만, 다음 각 호의 개정규정은 해당 호에서 정하는 날부터 시행한다. 1. 제86조제1항제2호의 개정규정: 2026년 1월 1일 2. 제95조제1호의 개정규정: 2024년 7월 1일 3. 제95조제5항의 개정규정: 2025년 1월 1일\\n\\n제2조(비례소득세에 관한 적용례 등) ① 제12조제2호사목의 개정규정은 이 법 시행 이후 발생하는 소득부터 적용한다. ② 제12조제3호마목, 같은 호 여목) 단서 및 같은 조 제50조라목 단서의 개정규정은 이 법 시행 이후 소득을 지급할 경우부터 적용한다. ③ 이 법 시행 전에 지급받은 출발·보육과 관련한 소득의 비례세 한도에 관한 제12조제3호마목 및 같은 조 제50조라목의 개정규정에도 불구하고 중단의 규정에 따른다.'),\n",
       " Document(metadata={'source': './documents/income_tax.md'}, page_content='제3조(자산의해곡세에 관한 적용례) 제50조제1항 제3호 외의 부분의 개정규정은 이 법 시행 이후 종합소득과세표준을 신고하거나 소득세를 결정하거나 연말정산하는 경우부터 적용한다. 제50조제2항제3호 및 제53조의 개정규정은 이 법 시행이 속하는 과세기간분부터 적용한다. 제50조의세혜택에 관한 적용례) 제50조의세제1항제4호나목의 개정규정은 이 법 시행 이후 의료비를 지급하는 경우부터 적용한다.\\n\\n제4조(이자 상한 가산액의 계산에 관한 적용례) 제64조제4항 본문의 개정규정은 이 법 시행 이후의 기간에 대하여 이자 상한 가산액을 계산하는 경우부터 적용한다.\\n\\n제5조(소득 부착 상여액에 관한 적용례) 제86조제1항의 개정규정은 2024년 7월 1일 이후 지급하는 소득에 대하여 원천징수하는 경우부터 적용한다.\\n\\n제6조(장기보유특별공제의 계산에 관한 적용례) 제95조제5항 및 제86조의 개정규정은 2025년 1월 1일 이후 자산을 양도하는 경우부터 적용한다.\\n\\n제7조(양도소득의 필요경비 계상 특례에 관한 적용례) 제97조제2항의 개정규정은 이 법 시행 이후 자산을 양도하는 경우부터 적용한다.\\n\\n제8조(조세조정상 비례세·단체 또는 체벌선별적 적용을 위한 경쟁정기기간에 관한 적용례) 제156조제1항 본문, 제156조제4항)은 본 및 제156조제6항 본문의 개정규정은 이 법 시행 당시 각자 같은 개정규정에 따른 경쟁적 유기순간이 아닐 경우에도 적용한다.\\n\\n제9조(외국인 통합세제 원천징수 특례에 관한 적용례) 제156조의의 개정규정은 이 법 시행 이후 외국인과 통합법제의 명의인에게 국내현산물들을 지급하는 경우부터 적용한다.\\n\\n제10조(국외 주식의 수익선법적 거래에 있어서의 적용례) 제164조의의 개정규정은 이 법 시행 이후 임원이 주식에서 발생한 자산의 주식지분소득을 지급하는 경우부터 적용한다.\\n\\n제11조(신탁소득에 대한 소득세의 과세지지에 관한 경과조치) 이 법 시행 전의 신탁재산에 귀속된 소득에 대해서는 제102조의 3제1항의 개정규정에도 불구하고 종전의 규정에 따른다.\\n\\n소득세법\\n\\n제138조(근로소득 기초금액 사항에 관한 경과조치) 이 법 시행 전 지급받은 연금소득의 근로소득에 관한 규정에 대하여는 제142조 제3항 제2호의 개정규정에도 불구하고 증진의 규정에 따른다.\\n\\n제144조(배당소득에 관한 경과조치) 이 법 시행 전 지급받은 배당소득의 계산에 관하여는 제172조제1항제2호의 개정규정에도 불구하고 증진의 규정에 따른다.\\n\\n제145조(주택의 보조금)에 대한 총수입금액의 계산 특례에 관한 경과조치) 이 법 시행 전 개시한 과세기간의 총수입금액 계산에 관하여는 제205조제1항제2호의 개정규정에도 불구하고 증진의 규정에 따른다.'),\n",
       " Document(metadata={'source': './documents/income_tax.md'}, page_content='제146조(장기주택저당차입금에 관한 사항의 경과조치) ① 이 법 시행 전에 취득한 주택 및 주택분양의 범위에 관한 제205조 제5항 각 호 외의 부분 및 같은 제4호 본문의 개정규정에도 불구하고 증진의 규정에 따른다. ② 이 법 시행 전에 차입한 장기주택저당차입금의 이자 상환액에 대한 소득공제 한도에 관한 다음 각 호의 구분에 따른다.\\n\\n이 법 시행 전에 지급한 이자 상환액의 경우: 제52조제5항 각 호 외의 부분 단서 및 같은 조 제6항의 개정규정에도 불구하고 증진의 규정에 따른다.\\n\\n이 법 시행 이후 지급하는 이자 상환액의 경우: 제52조제5항 각 호 외의 부분 단서 및 같은 조 제6항의 개정정정을 적용한다. 다만, 2012년 1월 전에 차입한 장기주택저당차입금의 이자 상환액에 대하여 제52조제5항 각 호 외의 부분 단서 및 같은 조 제6항의 개정정정을 적용하는 것이 법령 제1146조 소득세법 일반개정법을 부칙 제17조에 따라 증진의 제52조제5항 각 호 외의 부분 단서를 적용하는 것보다 다세세자에게 불리하게 되는 경우에는 같은 증진의 규정에 따른다.')]"
      ]
     },
     "execution_count": 10,
     "metadata": {},
     "output_type": "execute_result"
    }
   ],
   "source": [
    "# markdown 변환시 테이블이 split 변환 과정에서 내용이 잘리기 떄문에 txt 로 변환해 load & split 을 다시 처리해야함\n",
    "document_list[-10:] "
   ]
  },
  {
   "cell_type": "code",
   "execution_count": 11,
   "metadata": {},
   "outputs": [],
   "source": [
    "import markdown\n",
    "from bs4 import BeautifulSoup\n",
    "\n",
    "with open('./documents/income_tax.md', 'r', encoding='utf-8') as md_file:\n",
    "    md_content = md_file.read()\n",
    "\n",
    "html_content = markdown.markdown(md_content)\n",
    "\n",
    "soup = BeautifulSoup(html_content , 'html.parser')\n",
    "text_content = soup.get_text()\n",
    "\n",
    "with open('./documents/income_tax.txt', 'w', encoding='utf-8') as txt_file:\n",
    "    txt_file.write(text_content)"
   ]
  },
  {
   "cell_type": "code",
   "execution_count": 12,
   "metadata": {},
   "outputs": [],
   "source": [
    "from langchain_community.document_loaders import TextLoader\n",
    "text_path = './documents/income_tax.txt'\n",
    "loader = TextLoader(text_path)\n",
    "document_list =loader.load_and_split(text_splitter)"
   ]
  },
  {
   "cell_type": "code",
   "execution_count": 13,
   "metadata": {},
   "outputs": [],
   "source": [
    "from langchain_openai import OpenAIEmbeddings\n",
    "\n",
    "embeddings = OpenAIEmbeddings(model='text-embedding-3-large')"
   ]
  },
  {
   "cell_type": "code",
   "execution_count": 14,
   "metadata": {},
   "outputs": [],
   "source": [
    "from langchain_chroma import Chroma\n",
    "\n",
    "vector_store = Chroma.from_documents(\n",
    "    documents=document_list,\n",
    "    embedding=embeddings,\n",
    "    collection_name = 'income_tax_collection',\n",
    "    persist_directory = './income_tax_collection'\n",
    ")"
   ]
  },
  {
   "cell_type": "code",
   "execution_count": 15,
   "metadata": {},
   "outputs": [],
   "source": [
    "retriever = vector_store.as_retriever(search_kwargs={'k': 3})"
   ]
  },
  {
   "cell_type": "code",
   "execution_count": 16,
   "metadata": {},
   "outputs": [],
   "source": [
    "query = '연봉 5천만원 직장인의 소득세는?'"
   ]
  },
  {
   "cell_type": "code",
   "execution_count": 17,
   "metadata": {},
   "outputs": [
    {
     "data": {
      "text/plain": [
       "[Document(metadata={'source': './documents/income_tax.txt'}, page_content='5년 이하: 30만원 → 납입연수\\n5년 초과 10년 이하: 150만원 + 50만원 × (납입연수 - 5년)\\n10년 초과 20년 이하: 400만원 + 80만원 × (납입연수 - 10년)\\n20년 초과: 1,200만원 + 120만원 × (납입연수 - 20년)\\n\\n② 직장근로자 초과관세환급금을 분배하여 지급받는 경우 세액의 계산 방법 등 필요한 사항은 대통령령으로 정한다. \\n<대통령 2014. 12. 23.>\\n<전문개정 2009. 12. 31.>\\n제64조(부동산매매업자에 대한 세액 계산의 특례)\\n1) 대통령령으로 정하는 부동산매매업(이하 “부동산매매업”이라 한다)을 영위하는 거주자가 이하 “부동산매매업자”라 한다)로서 종합소득세법에 제104조제1항제1호(본항을 포함한다) 및 제103조 또는 같은 조 제7항 각 호의 어느 하나에 해당하는 자산의 매매자익(이하 “주택등매매차익”이라 한다)이 있는 자의 종합소득 산출세액은 다음 각 호의 세액 중 많은 것으로 한다. \\n<개정 2014. 12. 23., 2017. 12. 19., 2020. 12. 29.>\\n1. 종합소득 산출세액\\n\\n다음 각 목에 따른 세액의 합계액\\n  가. 주택등매매차익에 따른 세율을 적용하여 산출한 세액의 합계액\\n  나. 종합소득세법 제55조에 따라 주택등매매차익에 대한 개별세액을 공제한 금액을 과세표준으로 하고 이에 제55조에 따른 세율을 적용하여 산출세액'),\n",
       " Document(metadata={'source': './documents/income_tax.txt'}, page_content='이자소득에 대해서는 다음과 같이 규정하는 세율\\n가. 삭제<2017. 12. 19.>\\n나. 비영업대금의 이익에 대해서는 100분의 25. 단, ‘온라인투자연계금융업 및 이용자 보호에 관한 법률’ 제 법 금융위원회에 등록한 온라인투자연계금융업자를 통해 지급받는 이자소득에 대해서는 100분의 14 한다.\\n다. 제16조제1항제10호에 따른 직장공제기초발행금에 대해서는 기본세율\\n라. 그 밖의 이자소득에 대해서는 100분의 14\\n마. 배당소득에 대해서는 다음과 같이 규정하는 세율\\n바. 제17조제1항제8호에 따른 출자공동사업자의 배당소득에 대해서는 100분의 25\\n사. 그 밖의 배당소득에 대해서는 100분의 14\\n원천징수 대상 사업소득에 대해서는 100분의 3. 다만, 외국인 직업운동가가 한국프로스포츠산업법에 따른 스포츠 클럽 운영의 정 프로스포츠구단안에 계약(예외기간이 3년 이하인 경우로 한정한다)에 따라 종목을 제공하고 받는 소득에 대해서는 100분의 20으로 한다.\\n근로소득에 대해서는 기본세율. 다만, 임금근로자의 근로소득에 대해서는 100분의 6으로 한다.\\n공적연금소득에 대해서는 기본세율\\n제21조제3항제12호 및 제다목에 따른 연금계좌 말일에 운영실적에 따른 증가액을 연금소득변경 업소득에 대해서는 다음 각 목의 구분에 따른 세율. 이 경우 각 목의 요건을 동시에 충족하는 경우에 낮은 세율을 적용한다.\\n가. 연금소득자의 나이에 따른 다음의 세율\\n\\n| 나이(연금수령형태) | 세율          |\\n|----------------------|---------------|\\n| 70세 미만            | 10분의 5     |\\n| 70세 이상           | 80세 미만    | 10분의 4 |\\n| 80세 이상           | 10분의 3     |\\n\\n나. 삭제<2014. 12. 23.>\\n다. 사업할 때까지 연금수령으로 정하는 중신계약에 따라 받는 연금소득에 대해서는 100분의 4\\n제20조제3항제12호와 제13호에 따라 퇴직소득에 대해서는 다음 각 목의 구분에 따른 세율. 이 경우 연금 실세 수령과 및 연금수령 원천징수세율의 계정의 내용은 대출형으로 정한다.\\n가. 연금 실세 수령연차가 10년 미만인 경우: 연금수령 원천징수세율이 100분의 70\\n나. 연금 실세 수령연차가 10년을 초과하는 경우: 연금수령 원천징수세율이 100분의 60\\n기타소득에 대해서는 다음 규정하는 세율. 다만, 제8호를 적용하는 경우를 제외한다.\\n라. 제14조제1항제9호 및 마목에 해당하는 소득금액이 3억원을 초과하는 경우 그 초과하는 부분에 대해서는 100분의 30\\n제21조제1항제18호 및 제24조에 따른 기타소득에 대해서는 100분의 15\\n다. 삭제<2014. 12. 23.>\\n라. 그 밖의 기타소득에 대해서는 100분의 20\\n퇴직소득에 대해서는 기본세율\\n대통령령으로 정하는 봉사료에 대해서는 100분의 5'),\n",
       " Document(metadata={'source': './documents/income_tax.txt'}, page_content='② 제70조제1항, 제70조의2에 따른 제74조에 따라 차례로 할 것이 제70조제1항제2호에 따르며 서류를 제출하여야 한다는 경우에는 기준소득 중 거주자 본인이 된다(분산)과 제70조제2와 제74조에 따른 제료 및 제대법을 포함한다. 단, 차별제표청정인 그 업체를 남겨 제출한 경우로 그에 대하여 아니하다.<개정 2013. 1. 1.>\\n  ③ 제80조에 따른 수익과 관련의 경우에는 기초공제 중 거주자 본인이 된다(분산)과 그에 관한 적지사항을 분명히 한다.\\n[전문개정 2009. 12. 31.]\\n[제목개정 2014. 1. 1.]\\n제54조의2(공동사업에 대한 소득공제 등 특례) 제51조의3 또는 「조세특례제한법」에 따른 소득공제를 적용하거나 제59조의2에 따른 세액감면을 적용하는 경우 제54조제3항에 따라 공동사업자의 소득에 합산과세되는 특별세액거래의 지출․납입․투자 등의 금액이 있을 경우 주된 공동사업자의 소득에 합산과세되는 소득금액에 합산되어 주된 공동사업자의 합산과세세액은 공동사업소득액 또는 공동사업창출세액을 계산할 때 소득공제 또는 세액공제를 받을 수 있다. \\n[개정 2014. 1. 1.]\\n[전문개정 2009. 12. 31.]\\n[제목개정 2014. 1. 1.]\\n제2절 세액의 계산 <개정 2009. 12. 31.>\\n제1관 세율 <개정 2009. 12. 31.>\\n제55조(세율) 거주자의 종합소득에 대한 소득세는 해당 연도의 종합소득과세표준에 다음의 세율을 적용하여 계산한 금액(이하 \"종합소득과세표준세액\"이라 한다)을 그 세액으로 한다. <개정 2014. 1. 1., 2016. 12. 20., 2017. 12. 19., 2020. 12. 29., 2022. 12. 31.>\\n종합소득\\n┌───────────────┐\\n│ 과세표준의 6개 구간 │\\n├───────────────┤\\n│ 1,400만원 이하        │ 84만원 + (1,400만원을 초과하는 금액의 15%)  │\\n│ 1,400만원 초과        │ 84만원 + (5,000만원을 초과하는 금액의 24%)  │\\n│ 8,800만원 이하        │ 624만원 + (5,000만원을 초과하는 금액의 24%)  │\\n│ 8,800만원 초과        │ 1,536만원 + (8,800만원을 초과하는 금액의 35%)  │\\n│ 1.5억원 초과          │ 4,046만원 + (1,500만원을 초과하는 금액의 38%)  │\\n│ 3억원 초과            │ 6,460만원 + (3억원을 초과하는 금액의 40%)  │\\n│ 5억원 초과            │ 14,760만원 + (5억원을 초과하는 금액의 42%)  │\\n│ 10억원 초과           │ 38,406만원 + (10억원을 초과하는 금액의 45%)  │\\n└───────────────┘\\n② 거주자의 퇴직소득에 대한 소득세는 다음 각 호의 순서에 따라 계산한 금액(이하 ‘퇴직소득 산출세액’이라 한다)으로 한다. <개정 2013. 1. 1., 2014. 12. 23.>')]"
      ]
     },
     "execution_count": 17,
     "metadata": {},
     "output_type": "execute_result"
    }
   ],
   "source": [
    "retriever.invoke(query)"
   ]
  },
  {
   "cell_type": "markdown",
   "metadata": {},
   "source": [
    "- 1. `state`를 선언하고 에이전트를 생성\n",
    "- 2. `messages` 커스텀 변수들을 선언\n",
    "    - `query`는 사용자의 질문을 저장하는 용도로 사용\n",
    "    - `context`는 벡터 스토어에서 추출한 데이터를 저장하는 용도로 사용\n",
    "    - `answer`는 최종 응답을 저장하는 용도로 사용"
   ]
  },
  {
   "cell_type": "code",
   "execution_count": 18,
   "metadata": {},
   "outputs": [],
   "source": [
    "from typing_extensions import List, TypedDict\n",
    "from langchain_core.documents import Document\n",
    "\n",
    "class AgentState(TypedDict):\n",
    "    query: str\n",
    "    context: List[Document]\n",
    "    answer: str"
   ]
  },
  {
   "cell_type": "code",
   "execution_count": 19,
   "metadata": {},
   "outputs": [],
   "source": [
    "from langgraph.graph import StateGraph\n",
    "\n",
    "graph_builder = StateGraph(AgentState)"
   ]
  },
  {
   "cell_type": "code",
   "execution_count": 20,
   "metadata": {},
   "outputs": [],
   "source": [
    "# node 선언 (Retrieve , Generate)\n",
    "\n",
    "def retrieve(state:AgentState):\n",
    "    query = state['query']\n",
    "    docs = retriever.invoke(query)\n",
    "    return {'context':docs}"
   ]
  },
  {
   "cell_type": "code",
   "execution_count": 21,
   "metadata": {},
   "outputs": [],
   "source": [
    "# prompt 를 직접 쓰는게 아니라 Langsmith 에서 제공하는 prompt 활용\n",
    "from langchain import hub\n",
    "from langchain_openai import ChatOpenAI\n",
    "prompt = hub.pull('rlm/rag-prompt')\n",
    "llm = ChatOpenAI(model = 'gpt-4o')"
   ]
  },
  {
   "cell_type": "code",
   "execution_count": 22,
   "metadata": {},
   "outputs": [],
   "source": [
    "def generate(state: AgentState):\n",
    "    context = state['context']\n",
    "    query = state['query']\n",
    "    rag_chain = prompt | llm\n",
    "    response = rag_chain.invoke({'question': query , 'context': context})\n",
    "    return {'answer':response}"
   ]
  },
  {
   "cell_type": "code",
   "execution_count": 23,
   "metadata": {},
   "outputs": [
    {
     "data": {
      "text/plain": [
       "<langgraph.graph.state.StateGraph at 0x17fa65400>"
      ]
     },
     "execution_count": 23,
     "metadata": {},
     "output_type": "execute_result"
    }
   ],
   "source": [
    "# graph 구조 선언\n",
    "graph_builder.add_node('retrieve', retrieve)\n",
    "graph_builder.add_node('generate', generate)"
   ]
  },
  {
   "cell_type": "code",
   "execution_count": 24,
   "metadata": {},
   "outputs": [
    {
     "data": {
      "text/plain": [
       "<langgraph.graph.state.StateGraph at 0x17fa65400>"
      ]
     },
     "execution_count": 24,
     "metadata": {},
     "output_type": "execute_result"
    }
   ],
   "source": [
    "from langgraph.graph import START ,END\n",
    "\n",
    "graph_builder.add_edge(START, 'retrieve')\n",
    "graph_builder.add_edge('retrieve', 'generate')\n",
    "graph_builder.add_edge('generate', END)"
   ]
  },
  {
   "cell_type": "code",
   "execution_count": 25,
   "metadata": {},
   "outputs": [],
   "source": [
    "graph = graph_builder.compile()"
   ]
  },
  {
   "cell_type": "code",
   "execution_count": 26,
   "metadata": {},
   "outputs": [
    {
     "data": {
      "image/png": "[encoded data removed]",
      "text/plain": [
       "<langgraph.graph.state.CompiledStateGraph object at 0x305bee7b0>"
      ]
     },
     "execution_count": 26,
     "metadata": {},
     "output_type": "execute_result"
    }
   ],
   "source": [
    "graph"
   ]
  },
  {
   "cell_type": "code",
   "execution_count": 27,
   "metadata": {},
   "outputs": [],
   "source": [
    "sequence_graph_builder = StateGraph(AgentState).add_sequence([retrieve,generate])"
   ]
  },
  {
   "cell_type": "code",
   "execution_count": 28,
   "metadata": {},
   "outputs": [
    {
     "data": {
      "text/plain": [
       "<langgraph.graph.state.StateGraph at 0x305fc1bd0>"
      ]
     },
     "execution_count": 28,
     "metadata": {},
     "output_type": "execute_result"
    }
   ],
   "source": [
    "sequence_graph_builder.add_edge(START, 'retrieve')\n",
    "sequence_graph_builder.add_edge('generate',END)"
   ]
  },
  {
   "cell_type": "code",
   "execution_count": 30,
   "metadata": {},
   "outputs": [
    {
     "data": {
      "image/png": "[encoded data removed]",
      "text/plain": [
       "<langgraph.graph.state.CompiledStateGraph object at 0x305fc2210>"
      ]
     },
     "execution_count": 30,
     "metadata": {},
     "output_type": "execute_result"
    }
   ],
   "source": [
    "sequence_graph = sequence_graph_builder.compile()\n",
    "sequence_graph"
   ]
  },
  {
   "cell_type": "code",
   "execution_count": 31,
   "metadata": {},
   "outputs": [
    {
     "data": {
      "text/plain": [
       "{'query': '연봉 5천만원 직장인의 소득세는?',\n",
       " 'context': [Document(metadata={'source': './documents/income_tax.txt'}, page_content='5년 이하: 30만원 → 납입연수\\n5년 초과 10년 이하: 150만원 + 50만원 × (납입연수 - 5년)\\n10년 초과 20년 이하: 400만원 + 80만원 × (납입연수 - 10년)\\n20년 초과: 1,200만원 + 120만원 × (납입연수 - 20년)\\n\\n② 직장근로자 초과관세환급금을 분배하여 지급받는 경우 세액의 계산 방법 등 필요한 사항은 대통령령으로 정한다. \\n<대통령 2014. 12. 23.>\\n<전문개정 2009. 12. 31.>\\n제64조(부동산매매업자에 대한 세액 계산의 특례)\\n1) 대통령령으로 정하는 부동산매매업(이하 “부동산매매업”이라 한다)을 영위하는 거주자가 이하 “부동산매매업자”라 한다)로서 종합소득세법에 제104조제1항제1호(본항을 포함한다) 및 제103조 또는 같은 조 제7항 각 호의 어느 하나에 해당하는 자산의 매매자익(이하 “주택등매매차익”이라 한다)이 있는 자의 종합소득 산출세액은 다음 각 호의 세액 중 많은 것으로 한다. \\n<개정 2014. 12. 23., 2017. 12. 19., 2020. 12. 29.>\\n1. 종합소득 산출세액\\n\\n다음 각 목에 따른 세액의 합계액\\n  가. 주택등매매차익에 따른 세율을 적용하여 산출한 세액의 합계액\\n  나. 종합소득세법 제55조에 따라 주택등매매차익에 대한 개별세액을 공제한 금액을 과세표준으로 하고 이에 제55조에 따른 세율을 적용하여 산출세액'),\n",
       "  Document(metadata={'source': './documents/income_tax.txt'}, page_content='이자소득에 대해서는 다음과 같이 규정하는 세율\\n가. 삭제<2017. 12. 19.>\\n나. 비영업대금의 이익에 대해서는 100분의 25. 단, ‘온라인투자연계금융업 및 이용자 보호에 관한 법률’ 제 법 금융위원회에 등록한 온라인투자연계금융업자를 통해 지급받는 이자소득에 대해서는 100분의 14 한다.\\n다. 제16조제1항제10호에 따른 직장공제기초발행금에 대해서는 기본세율\\n라. 그 밖의 이자소득에 대해서는 100분의 14\\n마. 배당소득에 대해서는 다음과 같이 규정하는 세율\\n바. 제17조제1항제8호에 따른 출자공동사업자의 배당소득에 대해서는 100분의 25\\n사. 그 밖의 배당소득에 대해서는 100분의 14\\n원천징수 대상 사업소득에 대해서는 100분의 3. 다만, 외국인 직업운동가가 한국프로스포츠산업법에 따른 스포츠 클럽 운영의 정 프로스포츠구단안에 계약(예외기간이 3년 이하인 경우로 한정한다)에 따라 종목을 제공하고 받는 소득에 대해서는 100분의 20으로 한다.\\n근로소득에 대해서는 기본세율. 다만, 임금근로자의 근로소득에 대해서는 100분의 6으로 한다.\\n공적연금소득에 대해서는 기본세율\\n제21조제3항제12호 및 제다목에 따른 연금계좌 말일에 운영실적에 따른 증가액을 연금소득변경 업소득에 대해서는 다음 각 목의 구분에 따른 세율. 이 경우 각 목의 요건을 동시에 충족하는 경우에 낮은 세율을 적용한다.\\n가. 연금소득자의 나이에 따른 다음의 세율\\n\\n| 나이(연금수령형태) | 세율          |\\n|----------------------|---------------|\\n| 70세 미만            | 10분의 5     |\\n| 70세 이상           | 80세 미만    | 10분의 4 |\\n| 80세 이상           | 10분의 3     |\\n\\n나. 삭제<2014. 12. 23.>\\n다. 사업할 때까지 연금수령으로 정하는 중신계약에 따라 받는 연금소득에 대해서는 100분의 4\\n제20조제3항제12호와 제13호에 따라 퇴직소득에 대해서는 다음 각 목의 구분에 따른 세율. 이 경우 연금 실세 수령과 및 연금수령 원천징수세율의 계정의 내용은 대출형으로 정한다.\\n가. 연금 실세 수령연차가 10년 미만인 경우: 연금수령 원천징수세율이 100분의 70\\n나. 연금 실세 수령연차가 10년을 초과하는 경우: 연금수령 원천징수세율이 100분의 60\\n기타소득에 대해서는 다음 규정하는 세율. 다만, 제8호를 적용하는 경우를 제외한다.\\n라. 제14조제1항제9호 및 마목에 해당하는 소득금액이 3억원을 초과하는 경우 그 초과하는 부분에 대해서는 100분의 30\\n제21조제1항제18호 및 제24조에 따른 기타소득에 대해서는 100분의 15\\n다. 삭제<2014. 12. 23.>\\n라. 그 밖의 기타소득에 대해서는 100분의 20\\n퇴직소득에 대해서는 기본세율\\n대통령령으로 정하는 봉사료에 대해서는 100분의 5'),\n",
       "  Document(metadata={'source': './documents/income_tax.txt'}, page_content='② 제70조제1항, 제70조의2에 따른 제74조에 따라 차례로 할 것이 제70조제1항제2호에 따르며 서류를 제출하여야 한다는 경우에는 기준소득 중 거주자 본인이 된다(분산)과 제70조제2와 제74조에 따른 제료 및 제대법을 포함한다. 단, 차별제표청정인 그 업체를 남겨 제출한 경우로 그에 대하여 아니하다.<개정 2013. 1. 1.>\\n  ③ 제80조에 따른 수익과 관련의 경우에는 기초공제 중 거주자 본인이 된다(분산)과 그에 관한 적지사항을 분명히 한다.\\n[전문개정 2009. 12. 31.]\\n[제목개정 2014. 1. 1.]\\n제54조의2(공동사업에 대한 소득공제 등 특례) 제51조의3 또는 「조세특례제한법」에 따른 소득공제를 적용하거나 제59조의2에 따른 세액감면을 적용하는 경우 제54조제3항에 따라 공동사업자의 소득에 합산과세되는 특별세액거래의 지출․납입․투자 등의 금액이 있을 경우 주된 공동사업자의 소득에 합산과세되는 소득금액에 합산되어 주된 공동사업자의 합산과세세액은 공동사업소득액 또는 공동사업창출세액을 계산할 때 소득공제 또는 세액공제를 받을 수 있다. \\n[개정 2014. 1. 1.]\\n[전문개정 2009. 12. 31.]\\n[제목개정 2014. 1. 1.]\\n제2절 세액의 계산 <개정 2009. 12. 31.>\\n제1관 세율 <개정 2009. 12. 31.>\\n제55조(세율) 거주자의 종합소득에 대한 소득세는 해당 연도의 종합소득과세표준에 다음의 세율을 적용하여 계산한 금액(이하 \"종합소득과세표준세액\"이라 한다)을 그 세액으로 한다. <개정 2014. 1. 1., 2016. 12. 20., 2017. 12. 19., 2020. 12. 29., 2022. 12. 31.>\\n종합소득\\n┌───────────────┐\\n│ 과세표준의 6개 구간 │\\n├───────────────┤\\n│ 1,400만원 이하        │ 84만원 + (1,400만원을 초과하는 금액의 15%)  │\\n│ 1,400만원 초과        │ 84만원 + (5,000만원을 초과하는 금액의 24%)  │\\n│ 8,800만원 이하        │ 624만원 + (5,000만원을 초과하는 금액의 24%)  │\\n│ 8,800만원 초과        │ 1,536만원 + (8,800만원을 초과하는 금액의 35%)  │\\n│ 1.5억원 초과          │ 4,046만원 + (1,500만원을 초과하는 금액의 38%)  │\\n│ 3억원 초과            │ 6,460만원 + (3억원을 초과하는 금액의 40%)  │\\n│ 5억원 초과            │ 14,760만원 + (5억원을 초과하는 금액의 42%)  │\\n│ 10억원 초과           │ 38,406만원 + (10억원을 초과하는 금액의 45%)  │\\n└───────────────┘\\n② 거주자의 퇴직소득에 대한 소득세는 다음 각 호의 순서에 따라 계산한 금액(이하 ‘퇴직소득 산출세액’이라 한다)으로 한다. <개정 2013. 1. 1., 2014. 12. 23.>')],\n",
       " 'answer': AIMessage(content='연봉 5천만원 직장인의 소득세는 과세표준 5천만원 초과 부분에 대해 24%의 세율이 적용됩니다. 따라서, 8,800만원 이하 구간의 경우, 소득세는 624만원 + (5,000만원을 초과하는 금액의 24%)로 계산됩니다.', additional_kwargs={'refusal': None}, response_metadata={'token_usage': {'completion_tokens': 76, 'prompt_tokens': 2437, 'total_tokens': 2513, 'completion_tokens_details': {'accepted_prediction_tokens': 0, 'audio_tokens': 0, 'reasoning_tokens': 0, 'rejected_prediction_tokens': 0}, 'prompt_tokens_details': {'audio_tokens': 0, 'cached_tokens': 0}}, 'model_name': 'gpt-4o-2024-08-06', 'system_fingerprint': 'fp_a288987b44', 'finish_reason': 'stop', 'logprobs': None}, id='run-18fc5141-7f5e-4415-bd88-6951e3d32bd5-0', usage_metadata={'input_tokens': 2437, 'output_tokens': 76, 'total_tokens': 2513, 'input_token_details': {'audio': 0, 'cache_read': 0}, 'output_token_details': {'audio': 0, 'reasoning': 0}})}"
      ]
     },
     "execution_count": 31,
     "metadata": {},
     "output_type": "execute_result"
    }
   ],
   "source": [
    "initial_state = {'query':query}\n",
    "graph.invoke(initial_state)"
   ]
  },
  {
   "cell_type": "code",
   "execution_count": null,
   "metadata": {},
   "outputs": [],
   "source": []
  }
 ],
 "metadata": {
  "kernelspec": {
   "display_name": "inflearn-langgraph-lecture",
   "language": "python",
   "name": "python3"
  },
  "language_info": {
   "codemirror_mode": {
    "name": "ipython",
    "version": 3
   },
   "file_extension": ".py",
   "mimetype": "text/x-python",
   "name": "python",
   "nbconvert_exporter": "python",
   "pygments_lexer": "ipython3",
   "version": "3.13.5"
  }
 },
 "nbformat": 4,
 "nbformat_minor": 2
}
