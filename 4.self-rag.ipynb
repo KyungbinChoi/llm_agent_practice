{
 "cells": [
  {
   "cell_type": "code",
   "execution_count": 1,
   "metadata": {},
   "outputs": [],
   "source": [
    "from langchain_openai import OpenAIEmbeddings\n",
    "\n",
    "embedding_function = OpenAIEmbeddings(model='text-embedding-3-large')\n",
    "\n",
    "from langchain_chroma import Chroma\n",
    "\n",
    "vector_store = Chroma(\n",
    "    embedding_function=embedding_function,\n",
    "    collection_name = 'income_tax_collection',\n",
    "    persist_directory = './income_tax_collection'\n",
    ")\n",
    "retriever = vector_store.as_retriever(search_kwargs={'k': 3})"
   ]
  },
  {
   "cell_type": "code",
   "execution_count": 2,
   "metadata": {},
   "outputs": [],
   "source": [
    "from typing_extensions import List, TypedDict\n",
    "from langchain_core.documents import Document\n",
    "from langgraph.graph import StateGraph\n",
    "\n",
    "class AgentState(TypedDict):\n",
    "    query: str\n",
    "    context: List[Document]\n",
    "    answer: str\n",
    "    \n",
    "graph_builder = StateGraph(AgentState)"
   ]
  },
  {
   "cell_type": "code",
   "execution_count": 3,
   "metadata": {},
   "outputs": [],
   "source": [
    "def retrieve(state: AgentState) -> AgentState:\n",
    "    query = state['query']\n",
    "    docs = retriever.invoke(query)\n",
    "    return {'context':docs}"
   ]
  },
  {
   "cell_type": "code",
   "execution_count": 4,
   "metadata": {},
   "outputs": [],
   "source": [
    "from langchain_openai import ChatOpenAI\n",
    "llm = ChatOpenAI(model = 'gpt-4o')"
   ]
  },
  {
   "cell_type": "code",
   "execution_count": 5,
   "metadata": {},
   "outputs": [],
   "source": [
    "from langchain import hub\n",
    "generate_prompt = hub.pull('rlm/rag-prompt')\n",
    "generate_llm = ChatOpenAI(model = 'gpt-4o', max_completion_tokens=100)\n",
    "\n",
    "def generate(state: AgentState):\n",
    "    context = state['context']\n",
    "    query = state['query']\n",
    "    rag_chain = generate_prompt | generate_llm\n",
    "    response = rag_chain.invoke({'question': query , 'context': context})\n",
    "    return {'answer':response.content} # AImessage 부분을 포함시키 않기 위함"
   ]
  },
  {
   "cell_type": "code",
   "execution_count": 6,
   "metadata": {},
   "outputs": [],
   "source": [
    "# END 로 끝내야함\n",
    "from typing import Literal\n",
    "relevance_doc_prompt = hub.pull(\"langchain-ai/rag-document-relevance\")\n",
    "\n",
    "def check_doc_relevance(state: AgentState) -> Literal['relevant','irrelevant']:\n",
    "    query = state['query']\n",
    "    context = state['context']\n",
    "    # print(f'context == {context}')\n",
    "    \n",
    "    doc_relevance_chain = relevance_doc_prompt | llm\n",
    "    response = doc_relevance_chain.invoke({'question': query, 'documents': context})\n",
    "    # print(f'doc relevance response : {response}')\n",
    "    if response['Score']==1:\n",
    "        return 'relevant'\n",
    "    \n",
    "    return 'irrelevant'"
   ]
  },
  {
   "cell_type": "code",
   "execution_count": 7,
   "metadata": {},
   "outputs": [],
   "source": [
    "from langchain_core.prompts import PromptTemplate\n",
    "from langchain_core.output_parsers import StrOutputParser\n",
    "\n",
    "dictionary = ['사람과 관련된 표현 -> 거주자']\n",
    "rewrite_prompt = PromptTemplate.from_template(f\"\"\"\n",
    "사용자의 질문을 보고, 우리의 사전을 참고해서 사용자의 질문을 변경해주세요.\n",
    "사전: {dictionary}\n",
    "질문: {{query}}                             \n",
    "\"\"\")\n",
    "\n",
    "def rewrite(state: AgentState):\n",
    "    query = state['query']\n",
    "    rewrite_chain = rewrite_prompt | llm | StrOutputParser()\n",
    "\n",
    "    response = rewrite_chain.invoke({'query':query})\n",
    "    return {'query' : response}"
   ]
  },
  {
   "cell_type": "code",
   "execution_count": 8,
   "metadata": {},
   "outputs": [],
   "source": [
    "# from langchain import hub\n",
    "# hallucination_prompt = hub.pull(\"langchain-ai/rag-answer-hallucination\")\n",
    "\n",
    "from langchain_core.prompts import PromptTemplate\n",
    "hallucination_prompt = PromptTemplate.from_template(\"\"\"\n",
    "You are a teacher tasked with evaluating whether a student's answer is based on documents or not,\n",
    "Given documents, which are excerpts from income tax law, and a student's answer;\n",
    "If the student's answer is based on documents, respond with \"not hallucinated\",\n",
    "If the student's answer is not based on documents, respond with \"hallucinated\".\n",
    "\n",
    "documents: {documents}\n",
    "student_answer: {student_answer}\n",
    "\"\"\")\n",
    "\n",
    "hallucination_llm = ChatOpenAI(model='gpt-4o', temperature=0)\n",
    "\n",
    "def check_hallucination(state: AgentState) -> Literal[\"hallucinated\", \"not hallucinated\"]:\n",
    "    answer = state['answer']\n",
    "    context = state['context']\n",
    "    context = [doc.page_content for doc in context]\n",
    "    hallucination_chain = hallucination_prompt | hallucination_llm | StrOutputParser()\n",
    "    # hallucination_chain = hallucination_prompt | hallucination_llm \n",
    "    response = hallucination_chain.invoke({'student_answer': answer, 'documents': context})\n",
    "\n",
    "    return response"
   ]
  },
  {
   "cell_type": "code",
   "execution_count": 9,
   "metadata": {},
   "outputs": [],
   "source": [
    "from langchain import hub\n",
    "helpfulness_prompt = hub.pull(\"langchain-ai/rag-answer-helpfulness\")\n",
    "\n",
    "def check_helpfulness_grader(state:AgentState) -> Literal[\"helpful\",\"unhelpful\"]:\n",
    "    query = state['answer']\n",
    "    answer = state['answer']\n",
    "    # hallucination_chain = hallucination_prompt | hallucination_llm | StrOutputParser()\n",
    "    helpfulness_chain = helpfulness_prompt | llm \n",
    "    response = helpfulness_chain.invoke({'student_answer': answer, 'question': query})\n",
    "    if response['Score']==1:\n",
    "        return 'helpful'\n",
    "    return 'unhelpful'\n",
    "\n",
    "def check_helpfulness(state: AgentState):\n",
    "    return state"
   ]
  },
  {
   "cell_type": "code",
   "execution_count": 10,
   "metadata": {},
   "outputs": [],
   "source": [
    "# query = '연봉 5천만원인 거주자의 소득세는 얼마인가요?'\n",
    "# context = retriever.invoke(query)\n",
    "\n",
    "# generate_state = {'query':query, 'context':context}\n",
    "# answer = generate(generate_state)\n",
    "\n",
    "# # hallucination_stete = {'answer':answer, 'context': context}\n",
    "# # check_hallucination(hallucination_stete)\n",
    "\n",
    "# helpfulness_state = {'query':query, 'answer':answer}\n",
    "# check_helpfulness(helpfulness_state)"
   ]
  },
  {
   "cell_type": "code",
   "execution_count": 11,
   "metadata": {},
   "outputs": [
    {
     "data": {
      "text/plain": [
       "<langgraph.graph.state.StateGraph at 0x117b3cd70>"
      ]
     },
     "execution_count": 11,
     "metadata": {},
     "output_type": "execute_result"
    }
   ],
   "source": [
    "graph_builder.add_node('retrieve', retrieve)\n",
    "graph_builder.add_node('generate', generate)\n",
    "# graph_builder.add_node('check_doc_relevance', check_doc_relevance)\n",
    "graph_builder.add_node('rewrite', rewrite)\n",
    "# graph_builder.add_node('check_hallucination', check_hallucination)\n",
    "graph_builder.add_node('check_helpfulness', check_helpfulness)"
   ]
  },
  {
   "cell_type": "code",
   "execution_count": 12,
   "metadata": {},
   "outputs": [
    {
     "data": {
      "text/plain": [
       "<langgraph.graph.state.StateGraph at 0x117b3cd70>"
      ]
     },
     "execution_count": 12,
     "metadata": {},
     "output_type": "execute_result"
    }
   ],
   "source": [
    "from langgraph.graph import START, END\n",
    "\n",
    "graph_builder.add_edge(START , 'retrieve')\n",
    "graph_builder.add_conditional_edges(\n",
    "    'retrieve',\n",
    "    check_doc_relevance,\n",
    "    {\n",
    "        'relevant' : 'generate',\n",
    "        'irrelevant': END\n",
    "    }\n",
    ")\n",
    "graph_builder.add_conditional_edges(\n",
    "    'generate',\n",
    "    check_hallucination,\n",
    "    {\n",
    "        'hallucinated' : 'generate',\n",
    "        'not hallucinated': 'check_helpfulness'\n",
    "    }\n",
    ")\n",
    "\n",
    "graph_builder.add_conditional_edges(\n",
    "    'check_helpfulness',\n",
    "    check_helpfulness_grader,\n",
    "    {\n",
    "        'helpful' : END,\n",
    "        'unhelpful': 'rewrite'\n",
    "    }\n",
    ")\n",
    "\n",
    "graph_builder.add_edge('rewrite', 'retrieve')\n"
   ]
  },
  {
   "cell_type": "code",
   "execution_count": 13,
   "metadata": {},
   "outputs": [],
   "source": [
    "graph = graph_builder.compile()"
   ]
  },
  {
   "cell_type": "code",
   "execution_count": 14,
   "metadata": {},
   "outputs": [
    {
     "data": {
      "image/png": "[encoded data removed]",
      "text/plain": [
       "<langgraph.graph.state.CompiledStateGraph object at 0x117e4cec0>"
      ]
     },
     "execution_count": 14,
     "metadata": {},
     "output_type": "execute_result"
    }
   ],
   "source": [
    "graph"
   ]
  },
  {
   "cell_type": "code",
   "execution_count": 15,
   "metadata": {},
   "outputs": [
    {
     "data": {
      "text/plain": [
       "{'query': '배가 고파요',\n",
       " 'context': [Document(metadata={'source': './documents/income_tax.txt'}, page_content='기부자의 인적사항 등을 기부자와 다르게 적 발급하는 등 가액의 경우: 기부금영수증의 적립 금액의 100분의  \\n\\n1   \\n② 상속세 및 증여세법, 제160조제13항에 따라 보고 및 제철물을 이해하이 아니라는 것 제정제2조에 따라 출연연면 내의 실제에 대한 정부의 사항과 비슷하이므로 이해하여 자산자이 부과되는 경우에는 제1항제각 사항에 적용하니 아니하다.  \\n제1항에 따른 가산세는 종합소득세법에 없는 경우에도 적용한다.\\n[본조신설 2019. 12. 31.]\\n제8조의8(사업자등록신고 · 사용 불성실 가산세)\\n① 사업자가 다음 각 호의 어느 하나에 해당하는 경우에는 다음 각 호의 부분에 따라 금액을 가산세로 하여 과세기간의 종합소득 결정에 대해 남부하여야 한다. \\n1. 제160조의5제1항 각 호의 어느 하나에 해당하는 경우로 사업계좌를 사용하지 않는 경우: 사업업제처를 사용하이 아니라 금액의 1 접근──────────────────────────────────────────────────────────────────────────────────────────────\\n\\n제160조의5제3항에 따라 사업용계좌를 신고하지 아니한 경우(사업장별 신고를 하지 아니하고 이미 신고한 다른 사업장의 사업용계좌를 사용하는 경우)는 제1항한다. 다음 각 목의 금액 중 큰 금액\\n\\n가. 다음 계산식에 따라 계산한 금액\\nA: 해당 과세기간의 수입금액\\nB: 미신고계좌(과세기간)으로 사업용계좌를 신고하지 아니한 기간으로 신고한 다음 날부터 신고 전 본까지의 입수를 합한 금액, 미신고기간이 2개 이상 과세기간인 결제 있으면 각 과세기간별로 미신고계좌는 적용함\\nC: 365(윤년에는 366으로 한다)\\n나. 제160조의5제1항 각 호의 해당 거래금액의 합계액의 1천분의 2\\n(1) 제1항에 따른 가산세는 중한상태실제에 없는 경우에도 적용한다.\\n   [본지신설 2019. 12. 31]\\n제8조의3(신용카드 및 현금영수증 발급 불성실 가산세) ① 제162조의2제1항에 따른 신용카드가맹점의 신용카드에 의한 거래를 기록하거나 신용카드매출전표를 실질적으로 발행하여 같은 조 제3항 후단에 따라 남비세 관할 세무서장으로부터 통보받은 경우에는 전 개 금액 또는 신용카드매출전표 실질 다리 할인한 금액(전결로 발급하여야 할 금액과 자제를 말한다)의 100분의 5(계산된 금액이 5천원 미만이면 5천원으로 한다) 가산세를 해당 과세기간의 종합소득세법에 적혀야 납부해야 한다. \\n② 사업자가 다음 각 호에 있어야 하더라도 경우에는 다음 각 호의 구분에 따른 금액을 가산세로 해당 세기기 간의 종합소득세 특성에 의하여 납부하여야 한다. [주2021. 12. 8.]\\n\\n제162조의3위반하여 현금영수증을 발급하지 아니하거나 특정방법에 따라 가산세의 지정이나 가얏었는 경우:\\n다음 각 항목에 따라 계산한 금액'),\n",
       "  Document(metadata={'source': './documents/income_tax.txt'}, page_content=\"소총세편\\n배상·보상 또는 위자(慰資)의 성질이 있는 급여\\n라. 근로기준법, 또는 '선원법'에 따라 근로자·선원 및 그 유족이 받은 요양보상금, 휴업손상, 상병보상금(傷病補償), 임시보상금, 정산보상금, 유족보상금, 상실지급보상금, 장애인의 금전 지급에 관한 법령에 따라 받는 사경제지원을, '구간공무원법', '지방공무원법'에 따른 공무원 또는 사립학교직원법에, '평정직원법'을 적용하는 사람이 받은 법령에 따라 받는 유족지급(학교법 제70조2)에 따라 임용된 사립유치원의 학교 장관 또는 규칙에 따라 지방립는 유학생담당으로 대행령을 정하는 것이 이하의 것을 포함한다.\\n마. '국립연금법'에 따라 받는 반환일시금(사망으로 받는 것에 해당한다) 및 사망일금\\n사. '공무원연금법', '공무원 재해보상법', '공인 재해보상법', '사립학교교직원 연금법', '복지관 조직법', '장애인보상법', '사업보상', '사업실습', '퇴직육아급여', '유족연금입법', '퇴직연금법'\\n시. '장애보상법', '사무보상', '사업의정', '퇴직육아급여', '유족연금입법', '퇴직연금법'\\n아. 대표법령으로 정하는 직장\\n자. 대표법령의 정하는 생산비지출(賠償) 또는 헌법의 급여\\n바. 외국주(外國主)의 지방정치체제의 연방국인 외국의 지방자치단체를 포함한다. 이하 같음) 또는 대통령령으로 정하는 직제지원에서 근무하는 사람으로서 대통령령으로 정하는 이 급여는 부여하며, 그 외의 정당가 그 나라에서 근무하는 이나 공무원의 급여에 대한 소속체를 제시해야 하며, 이는 경우 반영(None) 않는다.\\n카. '국가기우지자 등 요지에 관한 법령' 또는 '보호보상대상자 지원에 관한 법령'에 따라 받는 보호급여 등\\n타. '전직대통령 예외에 관한 법령'에 따라 받는 연금\\n파. 작년보호를 수행하기 위하여 외국의 주재 중 공인·군무원의 받을 것\\n하. 중복 군인·군무원에 전과(전선으로 인한 사항을 포함한다. 이하 같음) 경우 전자신 발의 행사할 대상 기간의 급여\\n거. 국외 또는 '납붙유령급여'에 관한 법령에 따라 북한국에서 근로를 제공하고 받는 대통령령으로 정하는 급여\\n너. '국민건강보험법', '고용보험법', 또는 '노인장기요양보험법'에 따라 국빈, 지방자치단체 또는 사용자 부담하는 보험료\\n너. 생산적 및 고용 적에 종사하는 근로자로서 근로의 수준 지적 중심으로 고려하여 대통령령으로 정하는 근로자가 대통령령으로 정하는 연장금·야간근로 또는 휴업으로 받을 급여\\n라. 근로자가 산재보험이 아닌 조건방식으로 지급 받는 식사 및 기타 음식을 근로자가 식사를 기준으로 판단한다자녀의 보급과 관련하여 사용자로부터 받는 급여로 월 20만원 이내의 급여\\n마. 근로자 또는 그 배우자의 출산이 6세 이하의 자녀의 개시를 기준으로 판단한다 자녀의 보급과 관련하여 사용자로부터 받는 급여로 월 20만원 이내의 급여\\n바. '국공료보상 송환 및 모두에 관한 법령' 또는 '목록 프로포즈'가 받는 보수 및 퇴직소득\"),\n",
       "  Document(metadata={'source': './documents/income_tax.txt'}, page_content='[전문규정 2009. 12. 31.]  \\n제163조(매입세액 세금계산서각표의 제공) ① 제78조제1항에 따라 사업자 정상궈를 하여야 하는 사업자 또는 제78조제1항에 따라 제74조제1항의 적용되는 경우에는 흐르지 않도록 제1조제12항 및 제5항에 따른 비가치로 제78조제1항에 따라 사업자 정상궈를 하여야 하는 사업자 또는 제78조제1항제1호에 따른 사업자 정상궈에 대한 원자재의 경과, 제63조제1항, 제78조제3항, 제78조제3항에 따라 세금계산서를 발급받은 경우에는 제78조에 따른 사업자 정상궈기타(제78조제1항제1호)에 따라 제74조제1항의 적용되는 같은 조리에 대한 과세표준정시포장안에 관하여 매입세액세금계산서가 소지 관록 세부서저축에 제출하여야 한다. 단, \\'부가가치세법\\', 제54조제3항에 따라 제책환송에 그어져 아니하다. <개정 2012. 1. 1, 2013. 1. 1, 2016. 7.>\\n② 매입세액 세금계산서협의의 제공 등 필요하신 사항은 대통령령으로 정한다.\\n[전문규정 2009. 12. 31.]  \\n제163조의3(매입자발생계산서) ① 제163조 또는 \\'법인세법\\', 제121조에도 불구하고 제168조에 따라 사업자등록을 한 사업자 또는 법인으로부터 재산도 용공되는 거주자 또는 법인으로부터 재체변경 또는 법 내외에 대통령령으로 정하는 사항을 제공받지 못한 경우 남지사항 관련 확인을 받을 아 계산서이 \"매입자발생계산서\" 한다는 발급할 수 있다.\\n② 매입자발생계산서 발급 방식, 방법, 국 해에 필요한 사항은 대통령령으로 정한다.\\n[본조신설 2022. 12. 31.]')]}"
      ]
     },
     "execution_count": 15,
     "metadata": {},
     "output_type": "execute_result"
    }
   ],
   "source": [
    "initial_state = {'query' : '배가 고파요'}\n",
    "graph.invoke(initial_state)"
   ]
  },
  {
   "cell_type": "code",
   "execution_count": 16,
   "metadata": {},
   "outputs": [
    {
     "data": {
      "text/plain": [
       "{'query': '연봉 5천만원인 거주자가 납부해야 하는 소득세는 얼마인가요?',\n",
       " 'context': [Document(metadata={'source': './documents/income_tax.txt'}, page_content='② 제70조제1항, 제70조의2에 따른 제74조에 따라 차례로 할 것이 제70조제1항제2호에 따르며 서류를 제출하여야 한다는 경우에는 기준소득 중 거주자 본인이 된다(분산)과 제70조제2와 제74조에 따른 제료 및 제대법을 포함한다. 단, 차별제표청정인 그 업체를 남겨 제출한 경우로 그에 대하여 아니하다.<개정 2013. 1. 1.>\\n  ③ 제80조에 따른 수익과 관련의 경우에는 기초공제 중 거주자 본인이 된다(분산)과 그에 관한 적지사항을 분명히 한다.\\n[전문개정 2009. 12. 31.]\\n[제목개정 2014. 1. 1.]\\n제54조의2(공동사업에 대한 소득공제 등 특례) 제51조의3 또는 「조세특례제한법」에 따른 소득공제를 적용하거나 제59조의2에 따른 세액감면을 적용하는 경우 제54조제3항에 따라 공동사업자의 소득에 합산과세되는 특별세액거래의 지출․납입․투자 등의 금액이 있을 경우 주된 공동사업자의 소득에 합산과세되는 소득금액에 합산되어 주된 공동사업자의 합산과세세액은 공동사업소득액 또는 공동사업창출세액을 계산할 때 소득공제 또는 세액공제를 받을 수 있다. \\n[개정 2014. 1. 1.]\\n[전문개정 2009. 12. 31.]\\n[제목개정 2014. 1. 1.]\\n제2절 세액의 계산 <개정 2009. 12. 31.>\\n제1관 세율 <개정 2009. 12. 31.>\\n제55조(세율) 거주자의 종합소득에 대한 소득세는 해당 연도의 종합소득과세표준에 다음의 세율을 적용하여 계산한 금액(이하 \"종합소득과세표준세액\"이라 한다)을 그 세액으로 한다. <개정 2014. 1. 1., 2016. 12. 20., 2017. 12. 19., 2020. 12. 29., 2022. 12. 31.>\\n종합소득\\n┌───────────────┐\\n│ 과세표준의 6개 구간 │\\n├───────────────┤\\n│ 1,400만원 이하        │ 84만원 + (1,400만원을 초과하는 금액의 15%)  │\\n│ 1,400만원 초과        │ 84만원 + (5,000만원을 초과하는 금액의 24%)  │\\n│ 8,800만원 이하        │ 624만원 + (5,000만원을 초과하는 금액의 24%)  │\\n│ 8,800만원 초과        │ 1,536만원 + (8,800만원을 초과하는 금액의 35%)  │\\n│ 1.5억원 초과          │ 4,046만원 + (1,500만원을 초과하는 금액의 38%)  │\\n│ 3억원 초과            │ 6,460만원 + (3억원을 초과하는 금액의 40%)  │\\n│ 5억원 초과            │ 14,760만원 + (5억원을 초과하는 금액의 42%)  │\\n│ 10억원 초과           │ 38,406만원 + (10억원을 초과하는 금액의 45%)  │\\n└───────────────┘\\n② 거주자의 퇴직소득에 대한 소득세는 다음 각 호의 순서에 따라 계산한 금액(이하 ‘퇴직소득 산출세액’이라 한다)으로 한다. <개정 2013. 1. 1., 2014. 12. 23.>'),\n",
       "  Document(metadata={'source': './documents/income_tax.txt'}, page_content='5년 이하: 30만원 → 납입연수\\n5년 초과 10년 이하: 150만원 + 50만원 × (납입연수 - 5년)\\n10년 초과 20년 이하: 400만원 + 80만원 × (납입연수 - 10년)\\n20년 초과: 1,200만원 + 120만원 × (납입연수 - 20년)\\n\\n② 직장근로자 초과관세환급금을 분배하여 지급받는 경우 세액의 계산 방법 등 필요한 사항은 대통령령으로 정한다. \\n<대통령 2014. 12. 23.>\\n<전문개정 2009. 12. 31.>\\n제64조(부동산매매업자에 대한 세액 계산의 특례)\\n1) 대통령령으로 정하는 부동산매매업(이하 “부동산매매업”이라 한다)을 영위하는 거주자가 이하 “부동산매매업자”라 한다)로서 종합소득세법에 제104조제1항제1호(본항을 포함한다) 및 제103조 또는 같은 조 제7항 각 호의 어느 하나에 해당하는 자산의 매매자익(이하 “주택등매매차익”이라 한다)이 있는 자의 종합소득 산출세액은 다음 각 호의 세액 중 많은 것으로 한다. \\n<개정 2014. 12. 23., 2017. 12. 19., 2020. 12. 29.>\\n1. 종합소득 산출세액\\n\\n다음 각 목에 따른 세액의 합계액\\n  가. 주택등매매차익에 따른 세율을 적용하여 산출한 세액의 합계액\\n  나. 종합소득세법 제55조에 따라 주택등매매차익에 대한 개별세액을 공제한 금액을 과세표준으로 하고 이에 제55조에 따른 세율을 적용하여 산출세액'),\n",
       "  Document(metadata={'source': './documents/income_tax.txt'}, page_content='근무기한: 개월 수로 계산한다. 이 경우 1개월 미만의 기간이 있는 경우에는 이를 1개월로 본다.\\n종합소득: 봉급ㆍ상여 등 제20조제1항제1호 및 제23조에 따른 포괄소득(제12조전단에 따른 비과세소득은 제외한다)을 한다.\\n⑤ 삭제<2013. 1. 1.>\\n⑥ 퇴직소득의 범위 및 계산방법과 그 밖에 필요한 사항은 대통령령으로 정한다.<전문개정 2009. 12. 31.>\\n\\n제23조 <삭제 2006. 12. 30.>\\n제3절 소득금액의 계산\\n제5장 2009. 12. 31.>\\n제1항 총수입금액 <개정 2009. 12. 31.>\\n제24조(총수입금액의 계산) ① 거주자 각 소득에 대한 총수입액(총급여액과 총연금액을 포함한다. 이하 같다)은 해당 과세기간에 수입하였거나 수입할 금액의 합계액으로 한다.\\n② 제1항의 경우 금지 외의 자원을 수입할 때는 그 수입금액을 그 거래 당시의 가격에 의하여 계산한다.\\n총수입액을 계산할 때 수입하였거나 수입할 금액의 범위와 계산에 관한 필요한 사항은 대통령령으로 정한다.<전문개정 2009. 12. 31.>\\n제25조(총수입금액의 계산과 특례) ① 거주자가 부동산 또는 그 부동산상의 권리 등을 대여하거나 보증금ㆍ전세금 또는 이와 유사한 성질의 금액(이하 \"보증금\"이라 한다)을 받는 경우에는 대통령령으로 정하는 범에 따라 계산한 금액을 상속소득금액에산입할 때 총수입금액에 산입한다. 다만, 주택자금의 용도로 보이는 명저 1조(F) 또는 1세대당 3천미터 이하인 주택으로서 해당 세기기간이 기준시가가 2억인 이하 주택을 2026년 12월 31일까지 주택 수입 계산하지 아니하는 대여요금받는 경우에는 다음 중 하나의 하나에 해당하는 경우를 하며, 주택 수의 계산에 필요한 사항은 대통령령으로 정한다. <개정 2012. 1. 1., 2014. 1. 1., 2016. 12. 20, 2018. 12. 31, 2021. 12. 8, 2023. 12. 31.>\\n\\n3주택 이상을 소유하며 해당 주택의 보증금의 합계액이 3억원을 초과하는 경우  \\n주택당(해당 주택의 기준시가가 12억원 이하인 주택 주택에 포함하지 아니하는 것을 소유하거나 해당 주택의 보증금의 합계액이 3억원 이상인 경우로서 대통령령으로 정하는 금액을 초과하는 경우\\n거주자가 재산소득(資産所得) 또는 임금을 가사로 소비하지증명된 날에 지급받는 경우에 이를 소비하지 않고 사용하는 금액에 대해 가액에 해당하는 금액을 소비하지 않으면 소득금액에 대한 선입법의 사업소득금액에 산입한다.<삭제 2021. 12. 19.>\\n[시행일: 2026. 1. 1. <지방소득세법 제25조제1항제1호>]')],\n",
       " 'answer': '연봉 5천만원인 거주자가 납부해야 하는 소득세는 624만원입니다. 이는 5천만원 초과 금액에 대해 24% 세율이 적용되고, 기존 624만원에 더해지지 않기 때문입니다.'}"
      ]
     },
     "execution_count": 16,
     "metadata": {},
     "output_type": "execute_result"
    }
   ],
   "source": [
    "initial_state = {'query' : '연봉 5천만원인 거주자가 납부해야 하는 소득세는 얼마인가요?'}\n",
    "graph.invoke(initial_state)"
   ]
  },
  {
   "cell_type": "code",
   "execution_count": null,
   "metadata": {},
   "outputs": [],
   "source": []
  }
 ],
 "metadata": {
  "kernelspec": {
   "display_name": "inflearn-langgraph-lecture",
   "language": "python",
   "name": "python3"
  },
  "language_info": {
   "codemirror_mode": {
    "name": "ipython",
    "version": 3
   },
   "file_extension": ".py",
   "mimetype": "text/x-python",
   "name": "python",
   "nbconvert_exporter": "python",
   "pygments_lexer": "ipython3",
   "version": "3.13.5"
  }
 },
 "nbformat": 4,
 "nbformat_minor": 2
}
